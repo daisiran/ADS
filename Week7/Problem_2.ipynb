{
 "cells": [
  {
   "cell_type": "markdown",
   "metadata": {
    "deletable": false,
    "editable": false,
    "nbgrader": {
     "checksum": "b8f0a9023a8b002e0c7599cbd245b3ba",
     "grade": false,
     "grade_id": "header",
     "locked": true,
     "schema_version": 1,
     "solution": false
    }
   },
   "source": [
    "# Week 7 Problem 2\n",
    "\n",
    "A few things you should keep in mind when working on assignments:\n",
    "\n",
    "1. Make sure you fill in any place that says `YOUR CODE HERE`. Do not write your answer in anywhere else other than where it says `YOUR CODE HERE`. Anything you write anywhere else will be removed or overwritten by the autograder.\n",
    "\n",
    "2. Before you submit your assignment, make sure everything runs as expected. Go to menubar, select *Kernel*, and restart the kernel and run all cells (*Restart & Run all*).\n",
    "\n",
    "3. Do not change the title (i.e. file name) of this notebook.\n",
    "\n",
    "4. Make sure that you save your work (in the menubar, select *File* → *Save and CheckPoint*)\n",
    "\n",
    "5. When you are ready to submit your assignment, go to *Dashboard* → *Assignments* and click the *Submit* button. Your work is not submitted until you click *Submit*.\n",
    "\n",
    "6. You are allowed to submit an assignment multiple times, but only the most recent submission will be graded.\n",
    "\n",
    "7. **If your code does not pass the unit tests, it will not pass the autograder.**"
   ]
  },
  {
   "cell_type": "markdown",
   "metadata": {
    "deletable": false,
    "editable": false,
    "nbgrader": {
     "checksum": "578767dea48f3d71e6fcef3e5dcc3f83",
     "grade": false,
     "grade_id": "due_date",
     "locked": true,
     "schema_version": 1,
     "solution": false
    }
   },
   "source": [
    "# Due Date: 6 PM, March 05, 2018"
   ]
  },
  {
   "cell_type": "code",
   "execution_count": 1,
   "metadata": {
    "collapsed": true
   },
   "outputs": [],
   "source": [
    "import pandas as pd\n",
    "import numpy as np\n",
    "\n",
    "import matplotlib as mpl\n",
    "import matplotlib.pyplot as plt\n",
    "import seaborn as sns\n",
    "%matplotlib inline\n",
    "\n",
    "from sklearn.cluster import DBSCAN\n",
    "from sklearn.decomposition import PCA\n",
    "from sklearn.preprocessing import StandardScaler\n",
    "\n",
    "from nose.tools import assert_equal, assert_true, assert_false, assert_almost_equal\n",
    "import numpy.testing as npt\n"
   ]
  },
  {
   "cell_type": "markdown",
   "metadata": {
    "deletable": false,
    "editable": false,
    "nbgrader": {
     "checksum": "8abbe075b3e3168b8f4b86f1ed64e987",
     "grade": false,
     "grade_id": "cell-cd10aa11ad5588e3",
     "locked": true,
     "schema_version": 1,
     "solution": false
    }
   },
   "source": [
    "The cell below reads in a simulated dataset with the features a, b, and c."
   ]
  },
  {
   "cell_type": "code",
   "execution_count": 2,
   "metadata": {
    "deletable": false,
    "editable": false,
    "nbgrader": {
     "checksum": "5abe285d50a39f453f49918e4e12ae20",
     "grade": false,
     "grade_id": "cell-7f938a186274696d",
     "locked": true,
     "schema_version": 1,
     "solution": false
    }
   },
   "outputs": [
    {
     "data": {
      "text/html": [
       "<div>\n",
       "<style>\n",
       "    .dataframe thead tr:only-child th {\n",
       "        text-align: right;\n",
       "    }\n",
       "\n",
       "    .dataframe thead th {\n",
       "        text-align: left;\n",
       "    }\n",
       "\n",
       "    .dataframe tbody tr th {\n",
       "        vertical-align: top;\n",
       "    }\n",
       "</style>\n",
       "<table border=\"1\" class=\"dataframe\">\n",
       "  <thead>\n",
       "    <tr style=\"text-align: right;\">\n",
       "      <th></th>\n",
       "      <th>a</th>\n",
       "      <th>b</th>\n",
       "      <th>c</th>\n",
       "    </tr>\n",
       "  </thead>\n",
       "  <tbody>\n",
       "    <tr>\n",
       "      <th>0</th>\n",
       "      <td>0.004539</td>\n",
       "      <td>0.818678</td>\n",
       "      <td>194.381891</td>\n",
       "    </tr>\n",
       "    <tr>\n",
       "      <th>1</th>\n",
       "      <td>0.001367</td>\n",
       "      <td>0.243724</td>\n",
       "      <td>245.378577</td>\n",
       "    </tr>\n",
       "    <tr>\n",
       "      <th>2</th>\n",
       "      <td>1.579454</td>\n",
       "      <td>0.465842</td>\n",
       "      <td>849.943583</td>\n",
       "    </tr>\n",
       "    <tr>\n",
       "      <th>3</th>\n",
       "      <td>7.189778</td>\n",
       "      <td>0.456895</td>\n",
       "      <td>129.707932</td>\n",
       "    </tr>\n",
       "    <tr>\n",
       "      <th>4</th>\n",
       "      <td>97.743634</td>\n",
       "      <td>0.319419</td>\n",
       "      <td>120.998294</td>\n",
       "    </tr>\n",
       "  </tbody>\n",
       "</table>\n",
       "</div>"
      ],
      "text/plain": [
       "           a         b           c\n",
       "0   0.004539  0.818678  194.381891\n",
       "1   0.001367  0.243724  245.378577\n",
       "2   1.579454  0.465842  849.943583\n",
       "3   7.189778  0.456895  129.707932\n",
       "4  97.743634  0.319419  120.998294"
      ]
     },
     "execution_count": 2,
     "metadata": {},
     "output_type": "execute_result"
    }
   ],
   "source": [
    "df = pd.read_csv('/home/data_scientist/data/misc/sim.data')\n",
    "df.drop('y', axis=1, inplace=True)\n",
    "df.head()"
   ]
  },
  {
   "cell_type": "markdown",
   "metadata": {
    "deletable": false,
    "editable": false,
    "nbgrader": {
     "checksum": "bd2221ee0b51826f5c55086eab7b046a",
     "grade": false,
     "grade_id": "prob2_1_desc",
     "locked": true,
     "schema_version": 1,
     "solution": false
    }
   },
   "source": [
    "### Problem 2.1\n",
    "\n",
    "Complete the function *dim_red* by scaling the features using StandardScaler with the default arguments. Apply PCA on the Standardize features and keep 2 components. Return the Simulated features after dimensionality reduction has been applied. Set the random_state argument to 0 where applicable."
   ]
  },
  {
   "cell_type": "code",
   "execution_count": 3,
   "metadata": {
    "collapsed": true,
    "deletable": false,
    "nbgrader": {
     "checksum": "48a30418b84d9ab5b8d996abce54e238",
     "grade": false,
     "grade_id": "prob2_1_ans",
     "locked": false,
     "schema_version": 1,
     "solution": true
    }
   },
   "outputs": [],
   "source": [
    "def dim_red(df):\n",
    "    '''\n",
    "    Parameters\n",
    "    ----------\n",
    "    df: dataframe containing simulated features\n",
    "    \n",
    "    Returns\n",
    "    -------\n",
    "    Simulated features aftter dimensionality reduction is applied (numpy array)  \n",
    "    '''  \n",
    "    # YOUR CODE HERE   \n",
    "    # Extract the data and labels\n",
    "    x = StandardScaler().fit_transform(df)\n",
    "\n",
    "    # Principal Component Analysis\n",
    "    pca = PCA(n_components=2, random_state=0)\n",
    "\n",
    "    # Fit model to the data\n",
    "    xx = pca.fit_transform(x)\n",
    "\n",
    "    return xx"
   ]
  },
  {
   "cell_type": "code",
   "execution_count": 4,
   "metadata": {
    "collapsed": true,
    "deletable": false,
    "editable": false,
    "nbgrader": {
     "checksum": "fac6dadd2ab695e6d89761cb5b715fe2",
     "grade": true,
     "grade_id": "prob2_1_test",
     "locked": true,
     "points": 8,
     "schema_version": 1,
     "solution": false
    }
   },
   "outputs": [],
   "source": [
    "X = dim_red(df)\n",
    "\n",
    "assert_true(type(X) == type(np.ndarray(1)), msg='X should be numpy array')\n",
    "\n",
    "# Testing several slices of the reduced data to the solutions\n",
    "npt.assert_almost_equal(X[0:5], [[0.12627973557817346, 0.4621687961810338], [-0.9135872587685385, -0.8132069711362879], [-1.530782149412931, 1.188177150531928], [-0.2939093426545699, -0.5741698055176576], [0.420603364572216, -0.9293218565811089]], decimal=2)\n",
    "npt.assert_almost_equal(X[35:45], [[0.2978649250237335, 1.3892830818084219], [-0.9406442486238737, -0.13857068402350664], [-0.08683409108590956, -0.7454495577714111], [-0.425314974609004, 1.1491830779931218], [0.41561705119111975, 0.9621868279003907], [-0.2953903481572047, -1.1918403046002433], [0.08072687502672446, 0.21491687896580988], [0.05822079752374657, -1.1380298337265868], [0.06549216991966947, -0.1222797223009839], [-1.0675766274588536, 1.2265185147892819]], decimal=2)\n",
    "npt.assert_almost_equal(X[980:999], [[-2.2381545248554215, 0.3624533271910332], [-0.837584200746159, -0.8140721442522993], [-0.16760012299206772, -0.7317924168832775], [-0.4837267972081887, -1.5180344530048977], [1.9980255935307614, -1.0434244702404938], [-0.102771927876059, -0.11571455240233111], [-2.2260345152049483, 0.0104548580852915], [0.02606058456483472, -0.1109181874454961], [-0.3081168504289668, 0.7702018501614728], [-0.12855296017780404, 1.3482927491543821], [-0.7570488668013287, -0.3224289748501112], [0.8926478982460893, 1.6857495994548832], [-0.14067229454655, 1.3446531821607808], [-1.431471649243388, -0.509571530733033], [-1.2095818164276697, 0.2702481583621552], [-0.8770918680961779, -0.1345225867543651], [-0.3808425257177419, 0.7859321575625291], [0.20588556771960098, 0.019155762839033096], [0.058427878148025136, -0.39117508856064886]], decimal=2)\n"
   ]
  },
  {
   "cell_type": "markdown",
   "metadata": {
    "deletable": false,
    "editable": false,
    "nbgrader": {
     "checksum": "1a8014360131f3a7c5c3ac0d2882fe10",
     "grade": false,
     "grade_id": "prob2_2_desc",
     "locked": true,
     "schema_version": 1,
     "solution": false
    }
   },
   "source": [
    "### Problem 2.2\n",
    "\n",
    "Complete function *den_cluster* by taking the reduced features from Problem 2.1 and fitting a Density-Based Spatial Clustering of Applications with Noise (DBSCAN) model with the reduced features. Use the eps function parameter in your DBSCAN model. Return the cluster labels for each row in *X* that the model was fit on."
   ]
  },
  {
   "cell_type": "code",
   "execution_count": 5,
   "metadata": {},
   "outputs": [
    {
     "data": {
      "text/plain": [
       "DBSCAN(algorithm='auto', eps=0.22, leaf_size=30, metric='euclidean',\n",
       "    min_samples=5, n_jobs=1, p=None)"
      ]
     },
     "execution_count": 5,
     "metadata": {},
     "output_type": "execute_result"
    }
   ],
   "source": [
    "db = DBSCAN(eps=0.22)\n",
    "mdl = db.fit(X)\n",
    "mdl"
   ]
  },
  {
   "cell_type": "code",
   "execution_count": 6,
   "metadata": {
    "collapsed": true,
    "deletable": false,
    "nbgrader": {
     "checksum": "77fb3e0fdee688d6318da28169ded938",
     "grade": false,
     "grade_id": "prob2_2_ans",
     "locked": false,
     "schema_version": 1,
     "solution": true
    }
   },
   "outputs": [],
   "source": [
    "def den_cluster(X, eps=0.22):\n",
    "    '''\n",
    "    Parameters\n",
    "    ----------\n",
    "    X: numpy array containing reduced features\n",
    "    eps: floating number containing max distance between 2 samples for them to be considered as in the same neighborhood\n",
    "    \n",
    "    Returns\n",
    "    -------\n",
    "    cluster labels  (numpy array)\n",
    "    '''\n",
    "    # YOUR CODE HERE\n",
    "    # Apply DBSCAN\n",
    "    db = DBSCAN(eps=eps)\n",
    "    mdl = db.fit(X)\n",
    "\n",
    "    return mdl.labels_"
   ]
  },
  {
   "cell_type": "code",
   "execution_count": 7,
   "metadata": {
    "collapsed": true,
    "deletable": false,
    "editable": false,
    "nbgrader": {
     "checksum": "f649a7186176c7573925ceefd7ac114e",
     "grade": true,
     "grade_id": "prob2_2-tests",
     "locked": true,
     "points": 8,
     "schema_version": 1,
     "solution": false
    }
   },
   "outputs": [],
   "source": [
    "cluster_labels = den_cluster(X, 0.22)\n",
    "assert_true(type(cluster_labels) == type(np.ndarray(1)), msg='should be numpy array')\n",
    "npt.assert_equal(cluster_labels, [0, 0, 0, 0, 0, 0, 0, 0, 1, 0, 0, 0, 0, 0, 0, -1, 0, 0, 0, 0, 0, 0, 0, 0, 0, 0, 0, 0, -1, 1, 0, 0, 0, 0, 0, 0, 0, 0, 0, 0, 0, 0, 0, 0, 0, 0, 0, 0, 0, -1, 0, 0, 0, 0, 0, 0, 0, 0, 0, 0, 0, 0, 0, 0, -1, -1, 0, 0, 0, 0, 0, 0, 0, 0, 0, 0, 0, 0, 0, 0, 0, -1, 0, 0, 0, 0, 0, 0, 0, 0, -1, 0, 0, 0, 0, 0, 0, 0, 0, 0, 0, 0, 0, 0, 0, 0, 0, 0, 0, -1, 0, 0, 0, 0, 0, 0, 0, 0, 0, 0, 0, 0, 0, 0, 0, 0, 0, 0, 0, 0, 0, 0, 0, 0, 0, 0, 0, 0, 0, 0, -1, 0, 0, 0, -1, 0, 0, 0, 0, 0, 0, 0, 0, 0, 0, 0, 0, 0, 0, 0, 0, 0, 0, 0, 0, 0, 0, 0, 0, 0, 0, -1, 0, 0, 0, 0, 0, 0, 0, 0, 0, 0, 0, 0, 0, 1, 0, 0, 0, 0, 0, 0, 0, 0, 0, 0, -1, 0, 0, 0, 0, 0, 0, 0, 0, 0, 0, 0, 0, 0, 0, 0, 3, 0, 0, 0, 0, 0, 0, 0, 0, 0, 0, 0, 0, 0, 0, 0, 0, 0, 0, 0, 0, 0, 0, 0, 0, 0, 0, 0, 0, 0, 0, 0, 0, 0, 0, 0, 0, 0, 0, 0, 0, 0, 0, -1, 0, 0, 0, 0, 0, 0, 0, 0, 0, 0, 0, 0, 0, -1, 0, -1, 0, 0, 0, 0, 0, 0, 0, -1, 0, 0, 0, 0, 0, 0, 0, -1, -1, 0, 0, 0, 2, 0, 0, 0, 1, 0, 0, 0, 0, 0, 0, 0, 0, 0, 0, 0, 0, 0, 0, 0, 0, 0, 0, 0, 0, 0, 0, 0, 0, 0, 0, 0, 0, 0, 2, 0, 0, 0, 0, 0, 0, 0, 0, 0, 0, 0, -1, 0, 0, 0, 0, 0, 0, 0, 0, 0, 0, 0, 0, 0, 0, 0, 0, 0, 0, -1, 0, 0, 0, 0, 0, 0, 0, 0, 1, 0, 0, 0, 0, 0, 0, 0, 0, 0, 0, 0, 0, 0, 0, 0, 0, 0, 0, 0, 0, 0, 0, 0, 0, 0, 0, 0, 0, 0, 0, 0, 0, 0, 0, 0, 0, 0, 0, 0, 0, 0, 0, 0, 0, 0, 0, 0, 0, 0, 0, 0, 0, 0, 0, 0, 0, 0, 0, 0, 0, 0, 0, 0, 0, 0, 0, 0, 0, -1, 3, 0, 0, 0, 0, 0, 0, 0, 0, 0, 0, 0, 0, 0, 0, 0, 0, 0, 0, 0, 0, 0, 0, 0, 0, 0, 0, 0, -1, 0, 0, 0, 0, 0, 0, 0, 0, 0, 0, 0, 0, 0, 0, 0, 0, 0, 0, 2, 0, 0, 0, 0, 0, 0, 0, 0, 0, 0, 0, 0, 0, 0, 0, 0, 0, 0, 0, 0, 0, 0, 0, 0, 0, 0, 0, 0, 0, 0, 0, 0, 0, 0, 0, 0, 0, 0, 0, 0, -1, 0, 0, 0, 0, 0, 0, 0, 0, 0, 0, 0, 0, 0, 0, 0, 0, 0, 0, 0, 0, 0, 0, 0, 0, 0, 0, 0, 0, 0, -1, 0, 0, 0, 0, 0, 0, -1, 0, 0, 0, 0, 0, 0, 0, 0, 3, 0, 0, -1, 0, 0, 0, 0, 0, 0, 0, 0, 0, 0, 0, -1, 0, 0, 0, 0, 0, 0, 0, 0, 0, 0, 0, 0, 0, 0, 0, 0, 0, 0, 0, 0, 0, 0, 0, 0, 0, 0, 0, 0, 0, 0, 0, 0, 0, 0, 0, 0, 0, -1, 0, 0, 0, 0, 0, 0, 0, 0, 0, 0, 0, 0, 0, 0, 0, 0, 0, 0, 0, 0, 0, 0, 0, 0, 0, 0, -1, 0, 0, 0, 0, 0, 0, 0, 0, 0, 0, 0, 0, 0, 0, 0, 0, 0, -1, 0, 0, 0, 0, 0, 0, 0, 0, 2, 0, 0, 0, 0, 1, 0, 0, 0, 0, 0, 0, 0, 0, 0, 0, 0, 0, 0, 0, 0, 0, 0, 0, 0, 0, -1, 0, 0, 0, 0, 0, 0, 0, 0, 0, 0, 0, 0, 0, 0, 0, 0, 0, 0, 0, 0, 0, 0, 0, 0, -1, 0, -1, 0, 0, 0, 0, 0, 0, 0, 0, 0, 0, 0, 0, 0, 0, 0, 0, 0, 0, 0, 0, 0, 0, 0, 0, 0, 0, 0, 0, 0, 0, 0, 0, 0, 0, 0, 0, 0, 2, 0, 0, 0, -1, 0, 0, -1, 0, 0, 0, 0, 0, 0, 0, 0, 0, 0, 0, 0, 0, -1, 0, 0, 0, 0, -1, 0, 0, 0, 0, 0, 0, 0, 0, 0, 0, 0, 0, 0, 0, 0, 0, 0, 0, 0, 0, 0, 0, 0, 0, 0, 0, 0, 0, 1, 0, 0, 0, 0, 0, 0, 0, 0, 0, 0, 0, 0, 0, 0, 0, 0, 0, 0, 0, 0, 0, 0, 0, 0, 0, 0, 0, 0, 0, 0, 0, 0, 0, 0, 0, 0, 0, 0, 0, 3, 0, 0, 0, 0, 0, 0, -1, 0, 0, 0, -1, -1, 0, 0, 0, 0, 0, 0, 0, 0, 0, 0, 0, 0, 0, 0, 0, 0, 0, 0, 0, -1, 0, 0, 0, 0, 0, 0, 0, 0, 0, 0, 0, 0, 0, 0, 0, 0, 0, 0, 0, 0, 0, 0, 0, 0, 0, 0, 0, 0, 0, 0, 0, 0, 0, 0, 0, 0, 0, 0, 0, 0, 0, 0, 0, 0, 0, 0, 0, 0, 0, 0, 0, 0, 0, 0, 0, -1, 0, 0, 0, 0, 0, 0, 0, 0, 0, 0, 0, 0, 0, 0, 0, 0, -1, 0, 0, 2, 0, 0, 0, 0, 0, 0, 0, 0, 0, 0, 0, 0, 0, 0, 0, 0, 0, 0, 0, 0, 0, 0, 0, 0, 0, 0, 0, 0])\n",
    "\n",
    "cluster_labels2 = den_cluster(X, 0.23)\n",
    "assert_true(type(cluster_labels2) == type(np.ndarray(1)),  msg='should be numpy array')\n",
    "npt.assert_equal(cluster_labels2, [0, 0, 0, 0, 0, 0, 0, 0, 1, 0, 0, 0, 0, 0, 0, -1, 0, 0, 0, 0, 0, 0, 0, 0, 0, 0, 0, 0, -1, 1, 0, 0, 0, 0, 0, 0, 0, 0, 0, 0, 0, 0, 0, 0, 0, 0, 0, 0, 0, -1, 0, 0, 0, 0, 0, 0, 0, 0, 0, 0, 0, 0, 0, 0, -1, -1, 0, 0, 0, 0, 0, 0, 0, 0, 0, 0, 0, 0, 0, 0, 0, -1, 0, 0, 0, 0, 0, 0, 0, 0, -1, 0, 0, 0, 0, 0, 0, 0, 0, 0, 0, 0, 0, 0, 0, 0, 0, 0, 0, 0, 0, 0, 0, 0, 0, 0, 0, 0, 0, 0, 0, 0, 0, 0, 0, 0, 0, 0, 0, 0, 0, 0, 0, 0, 0, 0, 0, 0, 0, 0, -1, 0, 0, 0, 0, 0, 0, 0, 0, 0, 0, 0, 0, 0, 0, 0, 0, 0, 0, 0, 0, 0, 0, 0, 0, 0, 0, 0, 0, 0, 0, -1, 0, 0, 0, 0, 0, 0, 0, 0, 0, 0, 0, 0, 0, 1, 0, 0, 0, 0, 0, 0, 0, 0, 0, 0, -1, 0, 0, 0, 0, 0, 0, 0, 0, 0, 0, 0, 0, 0, 0, 0, 3, 0, 0, 0, 0, 0, 0, 0, 0, 0, 0, 0, 0, 0, 0, 0, 0, 0, 0, 0, 0, 0, 0, 0, 0, 0, 0, 0, 0, 0, 0, 0, 0, 0, 0, 0, 0, 0, 0, 0, 0, 0, 0, -1, 0, 0, 0, 0, 0, 0, 0, 0, 0, 0, 0, 0, 0, -1, 0, -1, 0, 0, 0, 0, 0, 0, 0, -1, 0, 0, 0, 0, 0, 0, 0, -1, -1, 0, 0, 0, 2, 0, 0, 0, 1, 0, 0, 0, 0, 0, 0, 0, 0, 0, 0, 0, 0, 0, 0, 0, 0, 0, 0, 0, 0, 0, 0, 0, 0, 0, 0, 0, 0, 0, 2, 0, 0, 0, 0, 0, 0, 0, 0, 0, 0, 0, -1, 0, 0, 0, 0, 0, 0, 0, 0, 0, 0, 0, 0, 0, 0, 0, 0, 0, 0, -1, 0, 0, 0, 0, 0, 0, 0, 0, 1, 0, 0, 0, 0, 0, 0, 0, 0, 0, 0, 0, 0, 0, 0, 0, 0, 0, 0, 0, 0, 0, 0, 0, 0, 0, 0, 0, 0, 0, 0, 0, 0, 0, 0, 0, 0, 0, 0, 0, 0, 0, 0, 0, 0, 0, 0, 0, 0, 0, 0, 0, 0, 0, 0, 0, 0, 0, 0, 0, 0, 0, 0, 0, 0, 0, 0, 0, 0, -1, 3, 0, 0, 0, 0, 0, 0, 0, 0, 0, 0, 0, 0, 0, 0, 0, 0, 0, 0, 0, 0, 0, 0, 0, 0, 0, 0, 0, -1, 0, 0, 0, 0, 0, 0, 0, 0, 0, 0, 0, 0, 0, 0, 0, 0, 0, 0, 2, 0, 0, 0, 0, 0, 0, 0, 0, 0, 0, 0, 0, 0, 0, 0, 0, 0, 0, 0, 0, 0, 0, 0, 0, 0, 0, 0, 0, 0, 0, 0, 0, 0, 0, 0, 0, 0, 0, 0, 0, 0, 0, 0, 0, 0, 0, 0, 0, 0, 0, 0, 0, 0, 0, 0, 0, 0, 0, 0, 0, 0, 0, 0, 0, 0, 0, 0, 0, 0, 0, -1, 0, 0, 0, 0, 0, 0, -1, 0, 0, 0, 0, 0, 0, 0, 0, 3, 0, 0, -1, 0, 0, 0, 0, 0, 0, 0, 0, 0, 0, 0, -1, 0, 0, 0, 0, 0, 0, 0, 0, 0, 0, 0, 0, 0, 0, 0, 0, 0, 0, 0, 0, 0, 0, 0, 0, 0, 0, 0, 0, 0, 0, 0, 0, 0, 0, 0, 0, 0, -1, 0, 0, 0, 0, 0, 0, 0, 0, 0, 0, 0, 0, 0, 0, 0, 0, 0, 0, 0, 0, 0, 0, 0, 0, 0, 0, 0, 0, 0, 0, 0, 0, 0, 0, 0, 0, 0, 0, 0, 0, 0, 0, 0, 0, 0, 0, 0, 0, 0, 0, 0, 0, 0, 2, 0, 0, 0, 0, 1, 0, 0, 0, 0, 0, 0, 0, 0, 0, 0, 0, 0, 0, 0, 0, 0, 0, 0, 0, 0, -1, 0, 0, 0, 0, 0, 0, 0, 0, 0, 0, 0, 0, 0, 0, 0, 0, 0, 0, 0, 0, 0, 0, 0, 0, -1, 0, -1, 0, 0, 0, 0, 0, 0, 0, 0, 0, 0, 0, 0, 0, 0, 0, 0, 0, 0, 0, 0, 0, 0, 0, 0, 0, 0, 0, 0, 0, 0, 0, 0, 0, 0, 0, 0, 0, 2, 0, 0, 0, -1, 0, 0, -1, 0, 0, 0, 0, 0, 0, 0, 0, 0, 0, 0, 0, 0, -1, 0, 0, 0, 0, -1, 0, 0, 0, 0, 0, 0, 0, 0, 0, 0, 0, 0, 0, 0, 0, 0, 0, 0, 0, 0, 0, 0, 0, 0, 0, 0, 0, 0, 1, 0, 0, 0, 0, 0, 0, 0, 0, 0, 0, 0, 0, 0, 0, 0, 0, 0, 0, 0, 0, 0, 0, 0, 0, 0, 0, 0, 0, 0, 0, 0, 0, 0, 0, 0, 0, 0, 0, 0, 3, 0, 0, 0, 0, 0, 0, -1, 0, 0, 0, -1, -1, 0, 0, 0, 0, 0, 0, 0, 0, 0, 0, 0, 0, 0, 0, 0, 0, 0, 0, 0, 0, 0, 0, 0, 0, 0, 0, 0, 0, 0, 0, 0, 0, 0, 0, 0, 0, 0, 0, 0, 0, 0, 0, 0, 0, 0, 0, 0, 0, 0, 0, 0, 0, 0, 0, 0, 0, 0, 0, 0, 0, 0, 0, 0, 0, 0, 0, 0, 0, 0, 0, 0, 0, 0, 0, 0, 0, 0, 0, 0, 0, 0, 0, 0, 0, 0, 0, 0, 0, 0, 0, 0, 0, -1, 0, 0, 2, 0, 0, 0, 0, 0, 0, 0, 0, 0, 0, 0, 0, 0, 0, 0, 0, 0, 0, 0, 0, 0, 0, 0, 0, 0, 0, 0, 0])\n"
   ]
  },
  {
   "cell_type": "markdown",
   "metadata": {
    "deletable": false,
    "editable": false,
    "nbgrader": {
     "checksum": "1e29a5d2bcd112343f7802e04e9fbe4c",
     "grade": false,
     "grade_id": "cell-db004dd6e85edaf2",
     "locked": true,
     "schema_version": 1,
     "solution": false
    }
   },
   "source": [
    "### Problem 2.3\n",
    "\n",
    "Complete problem 2.3 by finishing the function *plot*. Do the following:\n",
    "- Create a figure and axes object using subplots from matplotlib.pyplot.\n",
    "- Use [seaborn's color_palette](https://seaborn.pydata.org/tutorial/color_palettes.html) to generate enough colors for each of the clusters found by the DBSCAN model.\n",
    "    - use the hls color space\n",
    "- Iterate from -1 to the number of clusters found\n",
    "- For each iteration use the *plot* function from your axes object to plot all of the points from that cluster\n",
    "    - set the marker to either '.' or 'o' \n",
    "    - and the linestyle to 'None'. \n",
    "    - Set the color by selecting  the appropriate indices from the color palette. i.e: iteration 0 should select index 0 from the color palette, iteration 1 should select index 1 from the color paletter, and so on.\n",
    "- set a label for the x and y axes\n",
    "- set a title which should be named: \"*eps*: [eps value]\", where the eps value is a float passed into the plot function.\n",
    "- create a legend. Each item in the legend should be named after values of the cluster label. i.e: when you plot points that have the cluster label -1 these points should have the label -1, for points that belong to the  next cluster after -1 (0) they should be labeled as 0, and so on. See the example plot below.\n",
    "\n",
    "*When setting colors for a particular cluster, the label -1 should have the color of the first index, the label 0 should have the color of the second index, etc.*\n",
    "\n",
    "Here is an example of what your plot should look like: ![wk7p2.3.png](https://i.imgur.com/FDEOB65.png[/img]) \n",
    "\n",
    "Here are a few hints:\n",
    "- You may find it easier to convert the reduced features from a numpy array to dataframe. *You may have to change the shape of the data, if you follow this route."
   ]
  },
  {
   "cell_type": "code",
   "execution_count": 31,
   "metadata": {
    "collapsed": true,
    "deletable": false,
    "nbgrader": {
     "checksum": "ddadb3a4ca6e1373595ffdc5069dbd08",
     "grade": false,
     "grade_id": "cell-89c187550715b525",
     "locked": false,
     "schema_version": 1,
     "solution": true
    }
   },
   "outputs": [],
   "source": [
    "def plot(X , labels, eps):\n",
    "    '''\n",
    "    Parameters\n",
    "    ----------\n",
    "    X: numpy array containing reduced features\n",
    "    labels: numpy array containing cluster labels\n",
    "    eps: floating number containing max distance between 2 samples for them to be considered as in the same neighborhood\n",
    "    \n",
    "    Returns\n",
    "    -------\n",
    "    axes object\n",
    "    '''\n",
    "    # YOUR CODE HERE\n",
    "\n",
    "    # Colors used for plotting species\n",
    "    clr = sns.color_palette(\"hls\", len(list(np.unique(labels)))-1)\n",
    "    # Label data\n",
    "    lbls = list(np.unique(labels))[0:-1]\n",
    "    clm = ['PCA Feature 1','PCA Feature 2','Cluster Label']\n",
    "    # Define data\n",
    "    XX = pd.DataFrame(X)\n",
    "    new_labels = pd.DataFrame(labels)\n",
    "    dt = pd.concat([XX[0],XX[1], new_labels], axis=1)\n",
    "    dt.columns = clm\n",
    "    # Make plot\n",
    "    fig, ax = plt.subplots(figsize=(15, 10))\n",
    "    # Plot\n",
    "    for idx in lbls:\n",
    "        idx = idx+1\n",
    "        tmp_df = dt[dt['Cluster Label'] == idx]\n",
    "        plt.plot(tmp_df['PCA Feature 1'], tmp_df['PCA Feature 2'], \n",
    "                   marker = '.', color=clr[idx], linestyle = 'None', label=lbls[idx], alpha=0.5)\n",
    "\n",
    "    ax.set_xlabel('PCA Feature 1')\n",
    "    ax.set_ylabel('PCA Feature 2')\n",
    "    ax.set_title('eps: {}'.format(eps))\n",
    "    ax.legend(bbox_to_anchor=(1, 1), loc=2)\n",
    "\n",
    "    return ax"
   ]
  },
  {
   "cell_type": "code",
   "execution_count": 33,
   "metadata": {
    "deletable": false,
    "editable": false,
    "nbgrader": {
     "checksum": "499aca03a33ac945d642d55aa454893f",
     "grade": true,
     "grade_id": "cell-9e2677e4bf0e9e69",
     "locked": true,
     "points": 14,
     "schema_version": 1,
     "solution": false
    }
   },
   "outputs": [
    {
     "data": {
      "image/png": "[encoded data removed]",
      "text/plain": [
       "<matplotlib.figure.Figure at 0x7ff98e80aa58>"
      ]
     },
     "metadata": {},
     "output_type": "display_data"
    },
    {
     "data": {
      "image/png": "[encoded data removed]",
      "text/plain": [
       "<matplotlib.figure.Figure at 0x7ff98e80a4e0>"
      ]
     },
     "metadata": {},
     "output_type": "display_data"
    }
   ],
   "source": [
    "cluster_labels = den_cluster(X, eps=0.22)\n",
    "\n",
    "ax = plot(X , cluster_labels, 0.22)\n",
    "assert_true(isinstance(ax, mpl.axes._subplots.Axes), msg='return an axes object')\n",
    "\n",
    "assert_false(ax.get_title() == '', msg='Set Your title')\n",
    "assert_false(ax.get_ylabel() == '', msg='Label the y axis')\n",
    "assert_false(ax.get_xlabel() == '', msg='Label the x axis')\n",
    "\n",
    "assert_false(ax.get_lines() == 0, msg= \"Use the plot function not the scatter function\")\n",
    "assert_true(len(ax.get_lines()) == 4, msg='You should have called the plot function 4 times')\n",
    "\n",
    "assert_equal(ax.get_title(), 'eps: 0.22', msg=\"The title should be eps: 0.22\")\n",
    "\n",
    "assert_true(isinstance(ax.get_legend(), mpl.legend.Legend), msg='Create a legend')\n",
    "assert_false(len(ax.get_legend_handles_labels()) == 0, msg=\"Set your legend\")\n",
    "assert_equal(ax.get_legend_handles_labels()[1], ['-1', '0', '1', '2'])\n",
    "\n",
    "npt.assert_almost_equal((0.8599, 0.3711, 0.3399), ax.get_lines()[0].get_color(), decimal=2)\n",
    "npt.assert_almost_equal((0.5688, 0.8599, 0.3399), ax.get_lines()[1].get_color(), decimal=2)\n",
    "npt.assert_almost_equal((0.3399, 0.8287, 0.8599), ax.get_lines()[2].get_color(), decimal=2)\n",
    "npt.assert_almost_equal((0.6311, 0.3399, 0.8599), ax.get_lines()[3].get_color(), decimal=2)\n",
    "\n",
    "\n",
    "# Generating new clusters and testing the plot function again.\n",
    "cluster_labels2 = den_cluster(X, eps=0.21)\n",
    "ax2 = plot(X , cluster_labels2, 0.21)\n",
    "assert_true(isinstance(ax2, mpl.axes._subplots.Axes), msg='return an axes object')\n",
    "\n",
    "assert_false(ax2.get_title() == '', msg='Set Your title')\n",
    "assert_false(ax2.get_ylabel() == '', msg='Label the y axis')\n",
    "assert_false(ax2.get_xlabel() == '', msg='Label the x axis')\n",
    "\n",
    "assert_false(ax2.get_lines() == 0, msg= \"Use the plot function not the scatter function\")\n",
    "assert_true(len(ax2.get_lines()) == 8, msg='You should have called the plot function 8 times')\n",
    "\n",
    "assert_equal(ax2.get_title(), 'eps: 0.21', msg=\"The title should be eps: 0.21\")\n",
    "\n",
    "assert_true(isinstance(ax2.get_legend(), mpl.legend.Legend), msg='Create a legend')\n",
    "assert_false(len(ax2.get_legend_handles_labels()) == 0, msg=\"Set your legend\")\n",
    "assert_equal(ax2.get_legend_handles_labels()[1], ['-1', '0', '1', '2', '3', '4', '5', '6'])\n",
    "\n",
    "npt.assert_almost_equal((0.8599, 0.3711, 0.3399), ax2.get_lines()[0].get_color(), decimal=2)\n",
    "npt.assert_almost_equal((0.8599, 0.761, 0.3399), ax2.get_lines()[1].get_color(), decimal=2)\n",
    "npt.assert_almost_equal((0.5688, 0.8599, 0.3399), ax2.get_lines()[2].get_color(), decimal=2)\n",
    "npt.assert_almost_equal((0.3399, 0.8599, 0.5012), ax2.get_lines()[3].get_color(), decimal=2)\n",
    "npt.assert_almost_equal((0.3399, 0.8287, 0.8599), ax2.get_lines()[4].get_color(), decimal=2)\n",
    "npt.assert_almost_equal((0.3399, 0.4387, 0.8599), ax2.get_lines()[5].get_color(), decimal=2)\n",
    "npt.assert_almost_equal((0.6311, 0.3399, 0.8599), ax2.get_lines()[6].get_color(), decimal=2)\n",
    "npt.assert_almost_equal((0.8599, 0.3399, 0.6987), ax2.get_lines()[7].get_color(), decimal=2)\n"
   ]
  }
 ],
 "metadata": {
  "kernelspec": {
   "display_name": "Python 3",
   "language": "python",
   "name": "python3"
  },
  "language_info": {
   "codemirror_mode": {
    "name": "ipython",
    "version": 3
   },
   "file_extension": ".py",
   "mimetype": "text/x-python",
   "name": "python",
   "nbconvert_exporter": "python",
   "pygments_lexer": "ipython3",
   "version": "3.6.1"
  }
 },
 "nbformat": 4,
 "nbformat_minor": 2
}
