{
 "cells": [
  {
   "cell_type": "markdown",
   "metadata": {
    "deletable": false,
    "editable": false,
    "nbgrader": {
     "checksum": "d378163acc43a63caaa2de1621d303c1",
     "grade": false,
     "grade_id": "header",
     "locked": true,
     "schema_version": 1,
     "solution": false
    }
   },
   "source": [
    "# Week 7 Problem 1\n",
    "\n",
    "A few things you should keep in mind when working on assignments:\n",
    "\n",
    "1. Make sure you fill in any place that says YOUR CODE HERE. Do not write your answer in anywhere else other than where it says YOUR CODE HERE. Anything you write anywhere else will be removed or overwritten by the autograder.\n",
    "\n",
    "2. Before you submit your assignment, make sure everything runs as expected. Go to menubar, select Kernel, and restart the kernel and run all cells (Restart & Run all).\n",
    "\n",
    "3. Do not change the title (i.e. file name) of this notebook.\n",
    "\n",
    "4. Make sure that you save your work (in the menubar, select File → Save and CheckPoint)\n",
    "\n",
    "5. When you are ready to submit your assignment, go to Dashboard → Assignments and click the Submit button. Your work is not submitted until you click Submit.\n",
    "\n",
    "6. You are allowed to submit an assignment multiple times, but only the most recent submission will be graded.\n",
    "\n",
    "7. If your code does not pass the unit tests, it will not pass the autograder.\n",
    "\n"
   ]
  },
  {
   "cell_type": "markdown",
   "metadata": {
    "deletable": false,
    "editable": false,
    "nbgrader": {
     "checksum": "40f6c4da09a3a8a0923319f26c6dda9c",
     "grade": false,
     "grade_id": "due_date",
     "locked": true,
     "schema_version": 1,
     "solution": false
    }
   },
   "source": [
    "# Due Date: 6 PM, March 05, 2018\n"
   ]
  },
  {
   "cell_type": "code",
   "execution_count": 1,
   "metadata": {
    "collapsed": true,
    "deletable": false,
    "editable": false,
    "nbgrader": {
     "checksum": "cae0b9bdc63fcf43948c3e190f70ded9",
     "grade": false,
     "grade_id": "import",
     "locked": true,
     "schema_version": 1,
     "solution": false
    }
   },
   "outputs": [],
   "source": [
    "# Set up Notebook\n",
    "\n",
    "% matplotlib inline\n",
    "\n",
    "# Standard imports\n",
    "import numpy as np\n",
    "import pandas as pd\n",
    "import matplotlib.pyplot as plt\n",
    "import seaborn as sns\n",
    "import sklearn.datasets as ds\n",
    "from sklearn.preprocessing import StandardScaler\n",
    "from sklearn.decomposition import PCA\n",
    "from sklearn.cluster import KMeans\n",
    "from numpy.testing import assert_array_equal, assert_array_almost_equal\n",
    "from pandas.util.testing import assert_frame_equal, assert_index_equal\n",
    "from nose.tools import assert_false, assert_equal, assert_almost_equal, assert_true, assert_in, assert_is_not\n",
    "\n",
    "# We do this to ignore several specific Pandas warnings\n",
    "import warnings\n",
    "warnings.filterwarnings(\"ignore\")\n",
    "\n",
    "# Set global figure properties\n",
    "import matplotlib as mpl\n",
    "mpl.rcParams.update({'axes.titlesize' : 20,\n",
    "                     'axes.labelsize' : 18,\n",
    "                     'legend.fontsize': 16})\n",
    "\n",
    "# Set default Seaborn plotting style\n",
    "sns.set_style('white')"
   ]
  },
  {
   "cell_type": "markdown",
   "metadata": {
    "deletable": false,
    "editable": false,
    "nbgrader": {
     "checksum": "8cccc0fd348fcb4ebf7e39a05d7d7d92",
     "grade": false,
     "grade_id": "data_info",
     "locked": true,
     "schema_version": 1,
     "solution": false
    }
   },
   "source": [
    "## Clustering Dataset\n",
    "\n",
    "This dataset contains 50 columns and 100 rows. This is an example of unsupervised learning and there are no true classes that we already know. Our aim will be to find the best possible number of clusters dividing the dataset into different classes using the k-means algorithm."
   ]
  },
  {
   "cell_type": "code",
   "execution_count": 2,
   "metadata": {
    "deletable": false,
    "editable": false,
    "nbgrader": {
     "checksum": "2229c3fbae0fc282fae011f98cd44897",
     "grade": false,
     "grade_id": "data",
     "locked": true,
     "schema_version": 1,
     "solution": false
    }
   },
   "outputs": [
    {
     "data": {
      "text/html": [
       "<div>\n",
       "<style>\n",
       "    .dataframe thead tr:only-child th {\n",
       "        text-align: right;\n",
       "    }\n",
       "\n",
       "    .dataframe thead th {\n",
       "        text-align: left;\n",
       "    }\n",
       "\n",
       "    .dataframe tbody tr th {\n",
       "        vertical-align: top;\n",
       "    }\n",
       "</style>\n",
       "<table border=\"1\" class=\"dataframe\">\n",
       "  <thead>\n",
       "    <tr style=\"text-align: right;\">\n",
       "      <th></th>\n",
       "      <th>V1</th>\n",
       "      <th>V2</th>\n",
       "      <th>V3</th>\n",
       "      <th>V4</th>\n",
       "      <th>V5</th>\n",
       "      <th>V6</th>\n",
       "      <th>V7</th>\n",
       "      <th>V8</th>\n",
       "      <th>V9</th>\n",
       "      <th>V10</th>\n",
       "      <th>...</th>\n",
       "      <th>V41</th>\n",
       "      <th>V42</th>\n",
       "      <th>V43</th>\n",
       "      <th>V44</th>\n",
       "      <th>V45</th>\n",
       "      <th>V46</th>\n",
       "      <th>V47</th>\n",
       "      <th>V48</th>\n",
       "      <th>V49</th>\n",
       "      <th>V50</th>\n",
       "    </tr>\n",
       "  </thead>\n",
       "  <tbody>\n",
       "    <tr>\n",
       "      <th>0</th>\n",
       "      <td>1.448417</td>\n",
       "      <td>2.194434</td>\n",
       "      <td>0.253484</td>\n",
       "      <td>3.271674</td>\n",
       "      <td>1.784326</td>\n",
       "      <td>1.314152</td>\n",
       "      <td>2.349716</td>\n",
       "      <td>1.912047</td>\n",
       "      <td>2.226564</td>\n",
       "      <td>3.388439</td>\n",
       "      <td>...</td>\n",
       "      <td>0.903844</td>\n",
       "      <td>1.825982</td>\n",
       "      <td>-1.000929</td>\n",
       "      <td>2.849224</td>\n",
       "      <td>1.959302</td>\n",
       "      <td>2.571741</td>\n",
       "      <td>4.200965</td>\n",
       "      <td>2.580996</td>\n",
       "      <td>3.321925</td>\n",
       "      <td>1.569531</td>\n",
       "    </tr>\n",
       "    <tr>\n",
       "      <th>1</th>\n",
       "      <td>2.611821</td>\n",
       "      <td>2.880855</td>\n",
       "      <td>1.036606</td>\n",
       "      <td>3.449158</td>\n",
       "      <td>3.062979</td>\n",
       "      <td>1.429632</td>\n",
       "      <td>1.996817</td>\n",
       "      <td>0.843128</td>\n",
       "      <td>2.421644</td>\n",
       "      <td>2.155107</td>\n",
       "      <td>...</td>\n",
       "      <td>2.049050</td>\n",
       "      <td>2.515668</td>\n",
       "      <td>1.333777</td>\n",
       "      <td>1.550993</td>\n",
       "      <td>0.448455</td>\n",
       "      <td>2.386328</td>\n",
       "      <td>4.044751</td>\n",
       "      <td>2.768179</td>\n",
       "      <td>2.216161</td>\n",
       "      <td>1.742731</td>\n",
       "    </tr>\n",
       "    <tr>\n",
       "      <th>2</th>\n",
       "      <td>4.764148</td>\n",
       "      <td>3.163216</td>\n",
       "      <td>1.323310</td>\n",
       "      <td>4.827628</td>\n",
       "      <td>2.620347</td>\n",
       "      <td>2.579631</td>\n",
       "      <td>2.464886</td>\n",
       "      <td>-1.033376</td>\n",
       "      <td>2.004838</td>\n",
       "      <td>3.737990</td>\n",
       "      <td>...</td>\n",
       "      <td>0.801504</td>\n",
       "      <td>1.765635</td>\n",
       "      <td>2.171325</td>\n",
       "      <td>3.643009</td>\n",
       "      <td>3.167170</td>\n",
       "      <td>0.975322</td>\n",
       "      <td>1.996791</td>\n",
       "      <td>2.463768</td>\n",
       "      <td>4.575728</td>\n",
       "      <td>0.236837</td>\n",
       "    </tr>\n",
       "    <tr>\n",
       "      <th>3</th>\n",
       "      <td>2.583472</td>\n",
       "      <td>3.406480</td>\n",
       "      <td>1.379676</td>\n",
       "      <td>1.887976</td>\n",
       "      <td>2.673067</td>\n",
       "      <td>1.101041</td>\n",
       "      <td>2.889585</td>\n",
       "      <td>-0.299666</td>\n",
       "      <td>2.618984</td>\n",
       "      <td>1.920240</td>\n",
       "      <td>...</td>\n",
       "      <td>2.190019</td>\n",
       "      <td>1.341497</td>\n",
       "      <td>3.059539</td>\n",
       "      <td>3.483194</td>\n",
       "      <td>1.726354</td>\n",
       "      <td>1.775252</td>\n",
       "      <td>4.848482</td>\n",
       "      <td>1.114224</td>\n",
       "      <td>3.642899</td>\n",
       "      <td>2.460097</td>\n",
       "    </tr>\n",
       "    <tr>\n",
       "      <th>4</th>\n",
       "      <td>1.833661</td>\n",
       "      <td>3.639340</td>\n",
       "      <td>1.876556</td>\n",
       "      <td>4.474807</td>\n",
       "      <td>4.633710</td>\n",
       "      <td>1.809670</td>\n",
       "      <td>3.600430</td>\n",
       "      <td>0.142749</td>\n",
       "      <td>2.431134</td>\n",
       "      <td>1.973526</td>\n",
       "      <td>...</td>\n",
       "      <td>3.297706</td>\n",
       "      <td>3.250237</td>\n",
       "      <td>-0.376862</td>\n",
       "      <td>2.993644</td>\n",
       "      <td>1.532155</td>\n",
       "      <td>3.179516</td>\n",
       "      <td>2.333227</td>\n",
       "      <td>0.900219</td>\n",
       "      <td>3.089761</td>\n",
       "      <td>1.360005</td>\n",
       "    </tr>\n",
       "  </tbody>\n",
       "</table>\n",
       "<p>5 rows × 50 columns</p>\n",
       "</div>"
      ],
      "text/plain": [
       "         V1        V2        V3        V4        V5        V6        V7  \\\n",
       "0  1.448417  2.194434  0.253484  3.271674  1.784326  1.314152  2.349716   \n",
       "1  2.611821  2.880855  1.036606  3.449158  3.062979  1.429632  1.996817   \n",
       "2  4.764148  3.163216  1.323310  4.827628  2.620347  2.579631  2.464886   \n",
       "3  2.583472  3.406480  1.379676  1.887976  2.673067  1.101041  2.889585   \n",
       "4  1.833661  3.639340  1.876556  4.474807  4.633710  1.809670  3.600430   \n",
       "\n",
       "         V8        V9       V10    ...          V41       V42       V43  \\\n",
       "0  1.912047  2.226564  3.388439    ...     0.903844  1.825982 -1.000929   \n",
       "1  0.843128  2.421644  2.155107    ...     2.049050  2.515668  1.333777   \n",
       "2 -1.033376  2.004838  3.737990    ...     0.801504  1.765635  2.171325   \n",
       "3 -0.299666  2.618984  1.920240    ...     2.190019  1.341497  3.059539   \n",
       "4  0.142749  2.431134  1.973526    ...     3.297706  3.250237 -0.376862   \n",
       "\n",
       "        V44       V45       V46       V47       V48       V49       V50  \n",
       "0  2.849224  1.959302  2.571741  4.200965  2.580996  3.321925  1.569531  \n",
       "1  1.550993  0.448455  2.386328  4.044751  2.768179  2.216161  1.742731  \n",
       "2  3.643009  3.167170  0.975322  1.996791  2.463768  4.575728  0.236837  \n",
       "3  3.483194  1.726354  1.775252  4.848482  1.114224  3.642899  2.460097  \n",
       "4  2.993644  1.532155  3.179516  2.333227  0.900219  3.089761  1.360005  \n",
       "\n",
       "[5 rows x 50 columns]"
      ]
     },
     "execution_count": 2,
     "metadata": {},
     "output_type": "execute_result"
    }
   ],
   "source": [
    "data = pd.read_csv('/home/data_scientist/data/misc/clust_data.csv')\n",
    "data.head()\n"
   ]
  },
  {
   "cell_type": "markdown",
   "metadata": {
    "collapsed": true,
    "deletable": false,
    "editable": false,
    "nbgrader": {
     "checksum": "021785849125c457127d78456d65315b",
     "grade": false,
     "grade_id": "problem1",
     "locked": true,
     "schema_version": 1,
     "solution": false
    }
   },
   "source": [
    "# Problem 1\n",
    "\n",
    "Create a function kmean which will take 4 parameters: data, n_clusters, times and iterations and returns a list containing inertia for each value of n_clusters. Fit a Kmeans model on data using n_init=times, max_iter = iterations and random_state=23 as hyperparameters for different number of cluster values.\n",
    "\n",
    "**HINT:** Loop through different values of n_clusters to get the inertia value for each of them. \n"
   ]
  },
  {
   "cell_type": "code",
   "execution_count": 3,
   "metadata": {
    "collapsed": true,
    "deletable": false,
    "nbgrader": {
     "checksum": "d91d10e0a3125a364f9e6399d19f9183",
     "grade": false,
     "grade_id": "problem1_answer",
     "locked": false,
     "schema_version": 1,
     "solution": true
    }
   },
   "outputs": [],
   "source": [
    "def kmean(data, n_clusters, times, iterations):\n",
    "    '''   \n",
    "    The function will loop through different values of n_clusters(number of clusters to form) keeping n_init=times, \n",
    "    max_iter = iterations and random_state=23 as hyperparameters and return the inertia values for each n_clusters \n",
    "    value.\n",
    "    \n",
    "    Parameters\n",
    "    ----------\n",
    "    data : dataset to be used for kmeans clustering\n",
    "    n_clusters : number of clusters\n",
    "    times : Number of time the k-means algorithm will be run with different centroid seeds(n_init hyperparameter)\n",
    "    iterations : Maximum number of iterations of the k-means algorithm for a single run(max_iter hyperparameter)\n",
    "    \n",
    "    Returns\n",
    "    -------\n",
    "    A list of inertia(sum of total distances between points and cluster centers) values for different \n",
    "    n_clusters value.\n",
    "    '''    \n",
    "    # YOUR CODE HERE    \n",
    "    # Perform k-means clustering for different numbers of clusters\n",
    "    # Use the inertia (or sum of total distances between points\n",
    "    # and cluster centers) as the performance metric.\n",
    "    distances = []\n",
    "    for idx, nc in enumerate(n_clusters):\n",
    "        # We build our model for nc clusters\n",
    "        model = KMeans(n_clusters=nc, n_init=times, max_iter=iterations, random_state=23)\n",
    "        model.fit(data)\n",
    "        distances.append(model.inertia_)\n",
    "    return distances"
   ]
  },
  {
   "cell_type": "code",
   "execution_count": 4,
   "metadata": {
    "deletable": false,
    "editable": false,
    "nbgrader": {
     "checksum": "97bcd2cc5d55b1090f8ddce78a8367a0",
     "grade": true,
     "grade_id": "problem1_tests",
     "locked": true,
     "points": 10,
     "schema_version": 1,
     "solution": false
    }
   },
   "outputs": [],
   "source": [
    "n_clusters = np.arange(1, 15)\n",
    "distances = kmean(data, n_clusters, 10, 300)\n",
    "assert_almost_equal(distances[3], 4844.9258176238227,2)\n",
    "assert_almost_equal(distances[0], 7497.2370084922813,2)\n",
    "assert_equal(isinstance(distances, list), True)\n",
    "assert_equal(len(distances), 14)\n"
   ]
  },
  {
   "cell_type": "code",
   "execution_count": 5,
   "metadata": {
    "deletable": false,
    "editable": false,
    "nbgrader": {
     "checksum": "7514819d3795bc3f7ab2d0117496c56e",
     "grade": false,
     "grade_id": "graph1",
     "locked": true,
     "schema_version": 1,
     "solution": false
    }
   },
   "outputs": [
    {
     "data": {
      "image/png": "[encoded data removed]",
      "text/plain": [
       "<matplotlib.figure.Figure at 0x7f649e9c26a0>"
      ]
     },
     "metadata": {},
     "output_type": "display_data"
    }
   ],
   "source": [
    "fig, ax = plt.subplots(figsize=(12, 4))\n",
    "\n",
    "# Draw points and connect them\n",
    "ax.scatter(n_clusters, distances, s=150, \n",
    "           c=sns.xkcd_rgb['pale red'], marker='X', alpha=1)\n",
    "ax.plot(n_clusters, distances, lw=3, linestyle='-', \n",
    "        color=sns.xkcd_rgb['denim blue'])\n",
    "\n",
    "# Define elbow at three clusters\n",
    "elb = (n_clusters[3], distances[3])\n",
    "\n",
    "# Draw an arrow showing the elbow\n",
    "ax.annotate('Elbow', xytext=[4, 2], xy=elb,\n",
    "                arrowprops=dict(facecolor=sns.xkcd_rgb['dusty purple'], \n",
    "                                alpha=0.25, shrink=0.005))\n",
    "\n",
    "# Decorate Plot\n",
    "ax.set(title='Elbow Plot', \n",
    "       xlabel='Number of Clusters', \n",
    "       ylabel='Total distance')\n",
    "sns.despine(offset=5, trim=True)"
   ]
  },
  {
   "cell_type": "markdown",
   "metadata": {
    "deletable": false,
    "editable": false,
    "nbgrader": {
     "checksum": "6f6898a3c11016daa610f5f5eedeb9bd",
     "grade": false,
     "grade_id": "problem_2",
     "locked": true,
     "schema_version": 1,
     "solution": false
    }
   },
   "source": [
    "# Problem 2\n",
    "\n",
    "Create a function dist which will take 2 parameters: data and clusters and returns a tuple of 2 containing inertia value and a dictionary containing key, value pair as class, count in each class respectively. <br>\n",
    "Fit a Kmeans model on data using n_clusters=clusters, n_init=10, max_iter = iterations and random_state=23 as hyperparameters. <br>\n",
    "Obtain the predictions for the fitted model and create a dictionary containing class after clustering as key and the count of each class as value.\n"
   ]
  },
  {
   "cell_type": "code",
   "execution_count": 6,
   "metadata": {
    "collapsed": true,
    "deletable": false,
    "nbgrader": {
     "checksum": "9b980d5d6cbe901a84550944da381744",
     "grade": false,
     "grade_id": "problem2_answer",
     "locked": false,
     "schema_version": 1,
     "solution": true
    }
   },
   "outputs": [],
   "source": [
    "def dist(data, clusters):\n",
    "    '''   \n",
    "    Fit a Kmeans model on data using n_clusters=clusters, n_init=10, max_iter = iterations and random_state=23 \n",
    "    as hyperparameters.\n",
    "    \n",
    "    Parameters\n",
    "    ----------\n",
    "    data : dataset to be used for kmeans clustering\n",
    "    clusters : number of clusters\n",
    "    \n",
    "    Returns\n",
    "    -------\n",
    "    a tuple of 2 containing inertia value and a dictionary containing key, value pair as \n",
    "    class, count in each class respectively\n",
    "    '''\n",
    "    # YOUR CODE HERE\n",
    "    model = KMeans(n_clusters=clusters, n_init=10, random_state=23)\n",
    "    model.fit(data)\n",
    "    distances = model.inertia_\n",
    "    dic = dict((x, list(model.labels_).count(x)) for x in set(list(model.labels_)))\n",
    "\n",
    "    return (distances, dic)"
   ]
  },
  {
   "cell_type": "code",
   "execution_count": 7,
   "metadata": {
    "collapsed": true,
    "deletable": false,
    "editable": false,
    "nbgrader": {
     "checksum": "4740982485d987a3f5f395f064516deb",
     "grade": true,
     "grade_id": "problem2_tests",
     "locked": true,
     "points": 10,
     "schema_version": 1,
     "solution": false
    }
   },
   "outputs": [],
   "source": [
    "withinness, vals = dist(data, 4)\n",
    "assert_almost_equal(withinness, 4844.9258176238227, 2)\n",
    "assert_equal(isinstance(vals, dict), True)\n",
    "assert_equal(len(vals), 4)\n",
    "a=[]\n",
    "for key, value in vals.items():\n",
    "    a.append(value)\n",
    "assert_equal(a[0], 25)\n",
    "assert_equal(a[1], 25)\n",
    "assert_equal(a[2], 25)\n",
    "assert_equal(a[3], 25)"
   ]
  },
  {
   "cell_type": "markdown",
   "metadata": {
    "deletable": false,
    "editable": false,
    "nbgrader": {
     "checksum": "55a82db96a1e251f04e7900a6a9d8c95",
     "grade": false,
     "grade_id": "problem3",
     "locked": true,
     "schema_version": 1,
     "solution": false
    }
   },
   "source": [
    "# Problem 3\n",
    "\n",
    "\n",
    "For this Problem, complete the function plot creating a plot to visualize the assigned cluster in a 2D component space. The function will take 4 parameters: **transformed_center** which is cluster centers transformed to principal component space, **target** which is the classification done by clustering, **x** which is x axis and **y** which is y axis.\n",
    "\n",
    "The following is expected in the function: <br>\n",
    "Creating a figure and axes object using subplots from matplotlib.<br>\n",
    "Use a list to define 4 unique colors for different clusters.<br>\n",
    "Use a list to define 4 unique class names for different clusters.<br>\n",
    "Plot each class separately.<br>\n",
    "Plot cluster centers.<br>\n",
    "Title your plot and label the x and y axis of your plot as x and y parameter value.<br>\n",
    "Return the axes object, list of labels used and list of colors used for different clusters.<br>\n",
    "\n",
    "If done correctly your plot should look *similar* to the graph below:\n",
    "![Imgur](https://i.imgur.com/G6WW4m8.png)"
   ]
  },
  {
   "cell_type": "code",
   "execution_count": 8,
   "metadata": {
    "collapsed": true,
    "deletable": false,
    "nbgrader": {
     "checksum": "6dbd1dcfb993aba4df05b2f703cac93a",
     "grade": false,
     "grade_id": "problem3_answer",
     "locked": false,
     "schema_version": 1,
     "solution": true
    }
   },
   "outputs": [],
   "source": [
    "def plot(transformed_center, target, x , y):\n",
    "    '''       \n",
    "    Parameters\n",
    "    ----------\n",
    "    transformed_center : cluster centers transformed to principal component space\n",
    "    target : the classification done by clustering\n",
    "    x : x axis and also the x axis label name(xlabel)\n",
    "    y : y\n",
    "    axis and also the y axis label name(ylabel)\n",
    "    \n",
    "    Returns\n",
    "    -------\n",
    "    A tuple of 3 containing the axes object, list of labels used and list of colors used for different clusters\n",
    "    '''\n",
    "    # YOUR CODE HERE\n",
    "    pclr = [sns.xkcd_rgb['pale red'], \n",
    "            sns.xkcd_rgb['denim blue'],\n",
    "            sns.xkcd_rgb['medium green'],\n",
    "            sns.xkcd_rgb['yellow']]\n",
    "    # Label data\n",
    "    plbls = ['Class 0', 'Class 1', 'Class 2', 'Class 3']\n",
    "\n",
    "    # Now make the plot\n",
    "    fig, ax = plt.subplots(figsize=(12, 10))\n",
    "\n",
    "    # Plot cluster centers\n",
    "    ax.scatter(transformed_center[:,0], transformed_center[:,1], \n",
    "               s=250, c='k', marker='X', \n",
    "               label='Cluster Center')\n",
    "\n",
    "    # Plot each species separately\n",
    "    for idx in range(4):\n",
    "        tmp_pdf = pc[pc[target] == idx]\n",
    "        ax.scatter(tmp_pdf[x], tmp_pdf[y], \n",
    "                   color=pclr[idx], label=plbls[idx], alpha=1, s=25)\n",
    "\n",
    "    # Decorate Plot\n",
    "    ax.set(title='Clusters', xlabel=x, ylabel=y)\n",
    "    ax.legend(bbox_to_anchor=(1.0, 1), loc=2)\n",
    "    return (ax, plbls, pclr)"
   ]
  },
  {
   "cell_type": "code",
   "execution_count": 9,
   "metadata": {
    "deletable": false,
    "editable": false,
    "nbgrader": {
     "checksum": "33ffaffe5d9da66a96b50411c64247b8",
     "grade": true,
     "grade_id": "problem3_tests",
     "locked": true,
     "points": 10,
     "schema_version": 1,
     "solution": false
    }
   },
   "outputs": [
    {
     "data": {
      "image/png": "[encoded data removed]",
      "text/plain": [
       "<matplotlib.figure.Figure at 0x7f649f962fd0>"
      ]
     },
     "metadata": {},
     "output_type": "display_data"
    }
   ],
   "source": [
    "k_means = KMeans(n_clusters=4, n_init=10, random_state=23)\n",
    "k_means.fit(data)\n",
    "y_pred = k_means.predict(data).reshape(100, 1)\n",
    "cc = k_means.cluster_centers_\n",
    "pca = PCA(n_components=2, random_state=23)\n",
    "x_transformed = pca.fit_transform(data)\n",
    "cc_pca = pca.transform(cc)\n",
    "    \n",
    "# Data\n",
    "cols = ['PCA1', 'PCA2']\n",
    "dt = pd.DataFrame(data, columns = cols)\n",
    "cols = ['PCA1', 'PCA2', 'target']\n",
    "pc = pd.DataFrame(np.concatenate((x_transformed, y_pred), axis=1), \n",
    "                  columns = cols)\n",
    "\n",
    "ax, labels, color = plot(cc_pca, 'target','PCA1', 'PCA2')\n",
    "\n",
    "assert_true(isinstance(ax, mpl.axes._subplots.Axes), msg='return an axes object')\n",
    "assert_false(ax.get_title() == '', msg='Set Your title')\n",
    "assert_true(ax.get_xlabel() == 'PCA1', msg='Label the x axis as x')\n",
    "assert_true(ax.get_ylabel() == 'PCA2', msg='Label the y axis as y')\n",
    "assert_true(len(labels), 4)\n",
    "assert_true(len(color), 4)\n",
    "assert_true(len(np.unique(color)), 4)\n",
    "assert_true(len(np.unique(labels)), 4)"
   ]
  }
 ],
 "metadata": {
  "kernelspec": {
   "display_name": "Python 3",
   "language": "python",
   "name": "python3"
  },
  "language_info": {
   "codemirror_mode": {
    "name": "ipython",
    "version": 3
   },
   "file_extension": ".py",
   "mimetype": "text/x-python",
   "name": "python",
   "nbconvert_exporter": "python",
   "pygments_lexer": "ipython3",
   "version": "3.6.1"
  }
 },
 "nbformat": 4,
 "nbformat_minor": 2
}
