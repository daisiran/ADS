{
 "cells": [
  {
   "cell_type": "markdown",
   "metadata": {
    "deletable": false,
    "editable": false,
    "nbgrader": {
     "checksum": "8507ea0780b2377421a7470d19173fae",
     "grade": false,
     "grade_id": "header",
     "locked": true,
     "schema_version": 1,
     "solution": false
    }
   },
   "source": [
    "# Week 14 Problem 2\n",
    "\n",
    "A few things you should keep in mind when working on assignments:\n",
    "\n",
    "1. Make sure you fill in any place that says YOUR CODE HERE. Do not write your answer in anywhere else other than where it says YOUR CODE HERE. Anything you write anywhere else will be removed or overwritten by the autograder.\n",
    "\n",
    "2. Before you submit your assignment, make sure everything runs as expected. Go to menubar, select Kernel, and restart the kernel and run all cells (Restart & Run all).\n",
    "\n",
    "3. Do not change the title (i.e. file name) of this notebook.\n",
    "\n",
    "4. Make sure that you save your work (in the menubar, select File → Save and CheckPoint)\n",
    "\n",
    "5. When you are ready to submit your assignment, go to Dashboard → Assignments and click the Submit button. Your work is not submitted until you click Submit.\n",
    "\n",
    "6. You are allowed to submit an assignment multiple times, but only the most recent submission will be graded.\n",
    "\n",
    "7. If your code does not pass the unit tests, it will not pass the autograder.\n",
    "\n",
    "**NOTE: Validation will take some time. Please be patient and start early.** "
   ]
  },
  {
   "cell_type": "markdown",
   "metadata": {
    "deletable": false,
    "editable": false,
    "nbgrader": {
     "checksum": "1f3f9fa13a2f9ac8266d43f244dbeba6",
     "grade": false,
     "grade_id": "name",
     "locked": true,
     "schema_version": 1,
     "solution": false
    }
   },
   "source": [
    "## Author: Apurv Garg\n",
    "### Primary Reviewer: Radhir Kothuri\n"
   ]
  },
  {
   "cell_type": "markdown",
   "metadata": {
    "deletable": false,
    "editable": false,
    "nbgrader": {
     "checksum": "c757acddadf9f30f9021ccbd0127adc0",
     "grade": false,
     "grade_id": "due_date",
     "locked": true,
     "schema_version": 1,
     "solution": false
    }
   },
   "source": [
    "# Due Date: 6 PM, April 30, 2018"
   ]
  },
  {
   "cell_type": "code",
   "execution_count": 1,
   "metadata": {
    "collapsed": true,
    "deletable": false,
    "editable": false,
    "nbgrader": {
     "checksum": "2013fbdcc60bb7f1b682934dcc13ea88",
     "grade": false,
     "grade_id": "import",
     "locked": true,
     "schema_version": 1,
     "solution": false
    }
   },
   "outputs": [],
   "source": [
    "# Set up Notebook\n",
    "\n",
    "% matplotlib inline\n",
    "\n",
    "# Standard imports\n",
    "import numpy as np\n",
    "import pandas as pd\n",
    "import matplotlib.pyplot as plt\n",
    "import seaborn as sns\n",
    "import pymc3 as pm\n",
    "from nose.tools import assert_equal, assert_true, assert_is_instance\n",
    "from numpy.testing import assert_array_almost_equal, assert_almost_equal\n",
    "\n",
    "# These two lines suppress warnings that sometimes\n",
    "# occur when making visualizations\n",
    "import warnings\n",
    "warnings.filterwarnings('ignore')\n",
    "\n",
    "# Set global figure properties\n",
    "import matplotlib as mpl\n",
    "mpl.rcParams.update({'axes.titlesize' : 20,\n",
    "                     'axes.labelsize' : 18,\n",
    "                     'legend.fontsize': 12})\n",
    "\n",
    "# Set default Seaborn plotting style\n",
    "sns.set_style('white')"
   ]
  },
  {
   "cell_type": "markdown",
   "metadata": {
    "deletable": false,
    "editable": false,
    "nbgrader": {
     "checksum": "e0eb9fb0837a0cee7210bc292b3597ef",
     "grade": false,
     "grade_id": "dataset",
     "locked": true,
     "schema_version": 1,
     "solution": false
    }
   },
   "source": [
    "# Dataset\n",
    "\n",
    "The following dataset is created for the purpose of Hierarchical Modeling. We are creating 3 bins and 250 data points."
   ]
  },
  {
   "cell_type": "code",
   "execution_count": 2,
   "metadata": {
    "deletable": false,
    "editable": false,
    "nbgrader": {
     "checksum": "149fd7a70b92c9c1d19669fda1e419be",
     "grade": false,
     "grade_id": "data",
     "locked": true,
     "schema_version": 1,
     "solution": false
    }
   },
   "outputs": [
    {
     "data": {
      "image/png": "[encoded data removed]",
      "text/plain": [
       "<matplotlib.figure.Figure at 0x7f7e9817ce48>"
      ]
     },
     "metadata": {},
     "output_type": "display_data"
    }
   ],
   "source": [
    "np.random.seed(40)\n",
    "# A non-linear equation\n",
    "def theModel(x, params = None):\n",
    "\n",
    "    # Default values\n",
    "    beta = 0.5\n",
    "    alpha = 0.25\n",
    "\n",
    "    if params:\n",
    "        alpha = params['Intercept']\n",
    "        beta = params['Slope']\n",
    "\n",
    "    return (alpha + beta * x)\n",
    "\n",
    "# Add random noise to model\n",
    "def randomizeModel(xmin=0, xmax = 1, num=20):\n",
    "    \n",
    "    sigma = 0.1\n",
    "    \n",
    "    x = np.linspace(xmin, xmax, num)   \n",
    "    y = theModel(x) + sigma * np.random.randn(len(x))\n",
    "\n",
    "    return(x, y)\n",
    "\n",
    "# Generate model data in n_bins\n",
    "\n",
    "n_bins = 3\n",
    "n_pts = [100, 75, 75]\n",
    "\n",
    "# Obtain sample data and plot data and model fit\n",
    "\n",
    "x = [] ; y = [] ; b = []\n",
    "\n",
    "for bin in range(n_bins):\n",
    "    x_i, y_i = randomizeModel(num = n_pts[bin])\n",
    "    b_i = [bin] * n_pts[bin]\n",
    "    \n",
    "    x.extend(x_i)\n",
    "    y.extend(y_i)\n",
    "    b.extend(b_i)\n",
    "\n",
    "# Make a dataframe to hold the data and associated bin (categorical)\n",
    "df = pd.DataFrame({'x': x, 'y': y, 'b': b})\n",
    "\n",
    "# Plot entire data.\n",
    "ax = sns.regplot(data = df, x = 'x', y = 'y', \\\n",
    "                 fit_reg=True, color='black', label=\"Data\")\n",
    "ax.set(title='Sample Data')\n",
    "sns.despine(offset=5, trim=True)"
   ]
  },
  {
   "cell_type": "markdown",
   "metadata": {
    "deletable": false,
    "editable": false,
    "nbgrader": {
     "checksum": "cce76e85b7f9aa074265cd9ed92597e4",
     "grade": false,
     "grade_id": "problem1",
     "locked": true,
     "schema_version": 1,
     "solution": false
    }
   },
   "source": [
    "# Problem 1\n",
    "\n",
    "For this problem, complete the function `hierarchical1` which will take `bins` and `data` as parameters and return the generated sample points after computing the model likelihood. Following is expected from the function:\n",
    "\n",
    "- stochastic variables `mui_i` and `sigmai_i` for the intercept value(where mui_i follows Normal`(mean=0, sd=1)` and sigmai_i follows [Weibull](https://en.wikipedia.org/wiki/Weibull_distribution)`(alpha=1, beta=2)`)\n",
    "- stochastic variables `mus_i` and `sigmas_i` for the slope value(where mus_i follows Normal`(mean=0, sd=1)` and sigmas_i follows [Weibull](https://en.wikipedia.org/wiki/Weibull_distribution)`(alpha=1, beta=2)`)\n",
    "- stochastic variable `Sigma` for observation errors (where sigma follows [Exponential]`(lambda=2)`)\n",
    "- Use draws to be 100 and random_seed= 40 in pm.sample while generating sample points \n",
    "- `Intercept` is a normal distribution with parameters (mean=mui_i, sd=sigmai_i,shape=bins)\n",
    "- `Slope` is a normal distribution with parameters (mean=mus_i, sd=sigmas_i,shape=bins)\n",
    "- `Intercept`, `Slope` and `Sigma` are the names that should be used while defining distributions for intercept, slope and sigma respectively.\n",
    "- Compute the hierarhical model likelihood and generate sample points. \n",
    "\n",
    "Refer to this [page](https://docs.pymc.io/api/distributions/continuous.html) for details about the distributions in pymc3.\n",
    "Follow the methodology provided in the Class Notebook."
   ]
  },
  {
   "cell_type": "code",
   "execution_count": 6,
   "metadata": {
    "collapsed": true,
    "deletable": false,
    "nbgrader": {
     "checksum": "9e4d3695ef3bd1a199ed26e7523e0dc3",
     "grade": false,
     "grade_id": "problem1_answer",
     "locked": false,
     "schema_version": 1,
     "solution": true
    }
   },
   "outputs": [],
   "source": [
    "def hierarchical1(bins, data):\n",
    "    '''           \n",
    "    Parameters\n",
    "    ----------\n",
    "    bins : number of bins\n",
    "    data : dataframe containing the data \n",
    "    \n",
    "    Returns\n",
    "    -------\n",
    "    hierarchical_trace(the generated sample points after computing the model likelihood)\n",
    "    '''\n",
    "\n",
    "    # YOUR CODE HERE\n",
    "    b_idx = data['b'].values\n",
    "\n",
    "    with pm.Model() as hierarchical_model:\n",
    "        # Hyperpriors for group nodes\n",
    "        mui_i = pm.Normal('mui_i', mu=0.0, sd=1)\n",
    "        sigmai_i = pm.Weibull('sigmai_i', alpha=1, beta=2)\n",
    "\n",
    "        mus_i = pm.Normal('mus_i', mu=0.0, sd=1)\n",
    "        sigmas_i = pm.Weibull('sigmas_i', alpha=1, beta=2)\n",
    "\n",
    "        # Intercept for each county, distributed around group mean mu_a\n",
    "        # Above we just set mu and sd to a fixed value while here we\n",
    "        # plug in a common group distribution for all a and b (which are\n",
    "        # vectors of length n_counties).\n",
    "\n",
    "        intercept = pm.Normal('Intercept', mu = mui_i, sd = sigmai_i, shape=bins)\n",
    "        slope = pm.Normal('Slope', mu = mus_i, sd = sigmas_i, shape=bins)\n",
    "\n",
    "        # Now define stochastic variable for observation errors.    \n",
    "        sigma = pm.Exponential('Sigma', lam=2)\n",
    "\n",
    "        # Expected values using original indepedent variables\n",
    "        # Deterministic Variable\n",
    "        y_exp =  intercept[b_idx] + slope[b_idx] * data.x\n",
    "\n",
    "        # Sample values (likelihood)\n",
    "        likelihood = pm.Normal('yn', mu=y_exp, sd=sigma, observed=data.y)\n",
    "    with hierarchical_model:\n",
    "        hierarchical_trace = pm.sample(n_samples=100, random_seed=40, progressbar=True)\n",
    "    return hierarchical_trace"
   ]
  },
  {
   "cell_type": "code",
   "execution_count": 7,
   "metadata": {
    "deletable": false,
    "editable": false,
    "nbgrader": {
     "checksum": "77de773c04c427f7cbeb2b0793e6b55c",
     "grade": true,
     "grade_id": "problem1_tests",
     "locked": true,
     "points": 15,
     "schema_version": 1,
     "solution": false
    }
   },
   "outputs": [
    {
     "name": "stderr",
     "output_type": "stream",
     "text": [
      "Auto-assigning NUTS sampler...\n",
      "Initializing NUTS using ADVI...\n",
      "Average Loss = -165.1:  10%|▉         | 19237/200000 [00:04<00:39, 4623.63it/s] \n",
      "Convergence archived at 19400\n",
      "Interrupted at 19,400 [9%]: Average Loss = 160.32\n",
      "100%|██████████| 1000/1000 [00:10<00:00, 99.25it/s]\n"
     ]
    }
   ],
   "source": [
    "trace1 = hierarchical1(3, df)\n",
    "assert_is_instance(trace1, pm.backends.base.MultiTrace)\n",
    "assert_true('Intercept' in trace1.varnames)\n",
    "assert_true('Slope' in trace1.varnames)\n",
    "assert_true('Sigma' in trace1.varnames)\n",
    "assert_is_instance(trace1['Slope'], np.ndarray)\n",
    "assert_is_instance(trace1['Intercept'], np.ndarray)\n",
    "assert_almost_equal(trace1['Slope'][0][1], 0.57879831716520458, 3)\n",
    "assert_almost_equal(trace1['Intercept'][0][1], 0.20868030655502456, 3)"
   ]
  },
  {
   "cell_type": "markdown",
   "metadata": {
    "deletable": false,
    "editable": false,
    "nbgrader": {
     "checksum": "6648956a9f51c5f317bedaf3cef5ab76",
     "grade": false,
     "grade_id": "problem2",
     "locked": true,
     "schema_version": 1,
     "solution": false
    }
   },
   "source": [
    "# Problem2\n",
    "\n",
    "For this problem, complete the function `hierarchical2` which will take `bins` and `data` as parameters and return the generated sample points after computing the model likelihood.\n",
    "\n",
    "- stochastic variables `mui_i` and `sigmai_i` for the intercept value(where mui_i follows [Laplace](https://en.wikipedia.org/wiki/Laplace_distribution)`(mu=0, b=1)` and sigmai_i follows HalfCauchy`(beta=2)`)\n",
    "- stochastic variables `mus_i` and `sigmas_i` for the slope value(where mus_i follows [Laplace](https://en.wikipedia.org/wiki/Laplace_distribution)`(mu=0, b=1)` and sigmas_i follows HalfCauchy`(beta=2)`)\n",
    "- stochastic variable `Sigma` for observation errors (where sigma follows Exponential`(lambda=5)`)\n",
    "- Use draws to be 100 and random_seed= 40 in pm.sample while generating sample points\n",
    "- `Intercept` is a normal distribution with parameters (mean=mui_i, sd=sigmai_i,shape=bins)\n",
    "- `Slope` is a normal distribution with parameters (mean=mus_i, sd=sigmas_i,shape=bins)\n",
    "- `Intercept`, `Slope` and `Sigma` are the names that should be used while defining distributions for intercept, slope and sigma respectively.\n",
    "- Compute the hierarhical model likelihood and generate sample points. \n",
    "\n",
    "Refer to this [page](https://docs.pymc.io/api/distributions/continuous.html) for details about the distributions in pymc3.\n",
    "Follow the methodology provided in the Class Notebook."
   ]
  },
  {
   "cell_type": "code",
   "execution_count": 8,
   "metadata": {
    "collapsed": true,
    "deletable": false,
    "nbgrader": {
     "checksum": "27c585bca8942a05f7153ae7b0f2d13a",
     "grade": false,
     "grade_id": "problem2_answer",
     "locked": false,
     "schema_version": 1,
     "solution": true
    }
   },
   "outputs": [],
   "source": [
    "def hierarchical2(bins, data):\n",
    "    '''           \n",
    "    Parameters\n",
    "    ----------\n",
    "    bins : number of bins\n",
    "    data : dataframe containing the data \n",
    "    \n",
    "    Returns\n",
    "    -------\n",
    "    hierarchical_trace(the generated sample points after computing the model likelihood)\n",
    "    '''\n",
    "\n",
    "    # YOUR CODE HERE\n",
    "    b_idx = data['b'].values\n",
    "\n",
    "    with pm.Model() as hierarchical_model:\n",
    "        # Hyperpriors for group nodes\n",
    "        mui_i = pm.Laplace('mui_i', mu=0.0, b=1)\n",
    "        sigmai_i = pm.HalfCauchy('sigmai_i', beta=2)\n",
    "\n",
    "        mus_i = pm.Laplace('mus_i', mu=0.0, b=1)\n",
    "        sigmas_i = pm.HalfCauchy('sigmas_i',beta=2)\n",
    "\n",
    "        # Intercept for each county, distributed around group mean mu_a\n",
    "        # Above we just set mu and sd to a fixed value while here we\n",
    "        # plug in a common group distribution for all a and b (which are\n",
    "        # vectors of length n_counties).\n",
    "\n",
    "        intercept = pm.Normal('Intercept', mu = mui_i, sd = sigmai_i, shape=bins)\n",
    "        slope = pm.Normal('Slope', mu = mus_i, sd = sigmas_i, shape=bins)\n",
    "\n",
    "        # Now define stochastic variable for observation errors.    \n",
    "        sigma = pm.Exponential('Sigma', lam=5)\n",
    "\n",
    "        # Expected values using original indepedent variables\n",
    "        # Deterministic Variable\n",
    "        y_exp =  intercept[b_idx] + slope[b_idx] * data.x\n",
    "\n",
    "        # Sample values (likelihood)\n",
    "        likelihood = pm.Normal('yn', mu=y_exp, sd=sigma, observed=data.y)\n",
    "    with hierarchical_model:\n",
    "        hierarchical_trace = pm.sample(n_samples=100, random_seed=40, progressbar=True)\n",
    "    return hierarchical_trace"
   ]
  },
  {
   "cell_type": "code",
   "execution_count": 9,
   "metadata": {
    "deletable": false,
    "editable": false,
    "nbgrader": {
     "checksum": "60f515b444b0e8995ed2412dd763fac8",
     "grade": true,
     "grade_id": "problem2_tests",
     "locked": true,
     "points": 15,
     "schema_version": 1,
     "solution": false
    }
   },
   "outputs": [
    {
     "name": "stderr",
     "output_type": "stream",
     "text": [
      "Auto-assigning NUTS sampler...\n",
      "Initializing NUTS using ADVI...\n",
      "Average Loss = -164.74:  10%|▉         | 19174/200000 [00:04<00:40, 4453.02it/s]\n",
      "Convergence archived at 19400\n",
      "Interrupted at 19,400 [9%]: Average Loss = 906.96\n",
      "100%|██████████| 1000/1000 [00:07<00:00, 133.41it/s]\n"
     ]
    }
   ],
   "source": [
    "trace2 = hierarchical2(3, df)\n",
    "assert_is_instance(trace2, pm.backends.base.MultiTrace)\n",
    "assert_true('Intercept' in trace2.varnames)\n",
    "assert_true('Slope' in trace2.varnames)\n",
    "assert_true('Sigma' in trace2.varnames)\n",
    "assert_is_instance(trace2['Slope'], np.ndarray)\n",
    "assert_is_instance(trace2['Intercept'], np.ndarray)\n",
    "assert_almost_equal(trace2['Slope'][0][0], 0.45119101154406988, 3)\n",
    "assert_almost_equal(trace2['Intercept'][0][0], 0.2583534782153169, 3)"
   ]
  },
  {
   "cell_type": "code",
   "execution_count": null,
   "metadata": {
    "collapsed": true
   },
   "outputs": [],
   "source": []
  }
 ],
 "metadata": {
  "kernelspec": {
   "display_name": "Python 3",
   "language": "python",
   "name": "python3"
  },
  "language_info": {
   "codemirror_mode": {
    "name": "ipython",
    "version": 3
   },
   "file_extension": ".py",
   "mimetype": "text/x-python",
   "name": "python",
   "nbconvert_exporter": "python",
   "pygments_lexer": "ipython3",
   "version": "3.6.1"
  }
 },
 "nbformat": 4,
 "nbformat_minor": 2
}
