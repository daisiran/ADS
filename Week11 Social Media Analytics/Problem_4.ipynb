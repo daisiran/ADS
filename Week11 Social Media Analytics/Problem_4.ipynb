{
 "cells": [
  {
   "cell_type": "markdown",
   "metadata": {
    "deletable": false,
    "editable": false,
    "nbgrader": {
     "checksum": "64cf6d45a738cd357e1853ac49b82805",
     "grade": false,
     "grade_id": "header",
     "locked": true,
     "schema_version": 1,
     "solution": false
    }
   },
   "source": [
    "# Week 11 Problem 4\n",
    "\n",
    "A few things you should keep in mind when working on assignments:\n",
    "\n",
    "1. Make sure you fill in any place that says `YOUR CODE HERE`. Do not write your answer in anywhere else other than where it says `YOUR CODE HERE`. Anything you write anywhere else will be removed or overwritten by the autograder.\n",
    "\n",
    "2. Before you submit your assignment, make sure everything runs as expected. Go to menubar, select *Kernel*, and restart the kernel and run all cells (*Restart & Run all*).\n",
    "\n",
    "3. Do not change the title (i.e. file name) of this notebook.\n",
    "\n",
    "4. Make sure that you save your work (in the menubar, select *File* → *Save and CheckPoint*)\n",
    "\n",
    "5. When you are ready to submit your assignment, go to *Dashboard* → *Assignments* and click the *Submit* button. Your work is not submitted until you click *Submit*.\n",
    "\n",
    "6. You are allowed to submit an assignment multiple times, but only the most recent submission will be graded.\n",
    "\n",
    "7. **If your code does not pass the unit tests, it will not pass the autograder.**"
   ]
  },
  {
   "cell_type": "markdown",
   "metadata": {
    "deletable": false,
    "editable": false,
    "nbgrader": {
     "checksum": "480673558ae7758c6ea248a6a7573eb0",
     "grade": false,
     "grade_id": "cell-f2a8814b67759c3a",
     "locked": true,
     "schema_version": 1,
     "solution": false
    }
   },
   "source": [
    "## Author: John Nguyen\n",
    "### Primary Reviewer: Kelechi Ikegwu"
   ]
  },
  {
   "cell_type": "markdown",
   "metadata": {
    "deletable": false,
    "editable": false,
    "nbgrader": {
     "checksum": "e9086783e76d90671b402ae8f60e01af",
     "grade": false,
     "grade_id": "due_date",
     "locked": true,
     "schema_version": 1,
     "solution": false
    }
   },
   "source": [
    "# Due Date: 6 PM, April 9, 2018"
   ]
  },
  {
   "cell_type": "code",
   "execution_count": 1,
   "metadata": {
    "collapsed": true,
    "deletable": false,
    "editable": false,
    "nbgrader": {
     "checksum": "f152e6db1e62c7584101c867509154ee",
     "grade": false,
     "grade_id": "import_nose",
     "locked": true,
     "schema_version": 1,
     "solution": false
    }
   },
   "outputs": [],
   "source": [
    "import numpy as np\n",
    "import pandas as pd\n",
    "from datetime import datetime\n",
    "import matplotlib as mpl\n",
    "import matplotlib.pyplot as plt\n",
    "\n",
    "from nose.tools import (\n",
    "    assert_equal,\n",
    "    assert_is_instance,\n",
    "    assert_almost_equal,\n",
    "    assert_true,\n",
    "    assert_is_not\n",
    ")\n",
    "from numpy.testing import assert_array_equal\n",
    "\n"
   ]
  },
  {
   "cell_type": "markdown",
   "metadata": {
    "deletable": false,
    "editable": false,
    "nbgrader": {
     "checksum": "30709958f5ffde19c9ceca448cb55bb7",
     "grade": false,
     "grade_id": "cell-55f5152c9112ef90",
     "locked": true,
     "schema_version": 1,
     "solution": false
    }
   },
   "source": [
    "In this assignment, we will analyze all of President Donald Trump's tweets for 2017. We have already download the Twitter dataset so let us load the data as a DataFrame."
   ]
  },
  {
   "cell_type": "code",
   "execution_count": 2,
   "metadata": {
    "deletable": false,
    "editable": false,
    "nbgrader": {
     "checksum": "e2dbf428e781d3c77fdfcc83968d8de3",
     "grade": false,
     "grade_id": "cell-c605871f65f61a12",
     "locked": true,
     "schema_version": 1,
     "solution": false
    }
   },
   "outputs": [
    {
     "data": {
      "text/html": [
       "<div>\n",
       "<style>\n",
       "    .dataframe thead tr:only-child th {\n",
       "        text-align: right;\n",
       "    }\n",
       "\n",
       "    .dataframe thead th {\n",
       "        text-align: left;\n",
       "    }\n",
       "\n",
       "    .dataframe tbody tr th {\n",
       "        vertical-align: top;\n",
       "    }\n",
       "</style>\n",
       "<table border=\"1\" class=\"dataframe\">\n",
       "  <thead>\n",
       "    <tr style=\"text-align: right;\">\n",
       "      <th></th>\n",
       "      <th>created_at</th>\n",
       "      <th>favorite_count</th>\n",
       "      <th>id_str</th>\n",
       "      <th>is_retweet</th>\n",
       "      <th>retweet_count</th>\n",
       "      <th>source</th>\n",
       "      <th>text</th>\n",
       "    </tr>\n",
       "  </thead>\n",
       "  <tbody>\n",
       "    <tr>\n",
       "      <th>0</th>\n",
       "      <td>2017-12-31 04:46:21</td>\n",
       "      <td>58549</td>\n",
       "      <td>947328044821336064</td>\n",
       "      <td>False</td>\n",
       "      <td>13096</td>\n",
       "      <td>Twitter for iPhone</td>\n",
       "      <td>“Trump Rally: Stocks put 2017 in the record bo...</td>\n",
       "    </tr>\n",
       "    <tr>\n",
       "      <th>1</th>\n",
       "      <td>2017-12-30 22:42:09</td>\n",
       "      <td>117013</td>\n",
       "      <td>947236393184628736</td>\n",
       "      <td>False</td>\n",
       "      <td>24332</td>\n",
       "      <td>Twitter for iPhone</td>\n",
       "      <td>Jobs are kicking in and companies are coming b...</td>\n",
       "    </tr>\n",
       "    <tr>\n",
       "      <th>2</th>\n",
       "      <td>2017-12-30 22:36:41</td>\n",
       "      <td>195754</td>\n",
       "      <td>947235015343202304</td>\n",
       "      <td>False</td>\n",
       "      <td>50342</td>\n",
       "      <td>Twitter for iPhone</td>\n",
       "      <td>I use Social Media not because I like to, but ...</td>\n",
       "    </tr>\n",
       "    <tr>\n",
       "      <th>3</th>\n",
       "      <td>2017-12-30 21:12:45</td>\n",
       "      <td>73325</td>\n",
       "      <td>947213895286054912</td>\n",
       "      <td>False</td>\n",
       "      <td>16703</td>\n",
       "      <td>Twitter for iPhone</td>\n",
       "      <td>On Taxes: “This is the biggest corporate rate ...</td>\n",
       "    </tr>\n",
       "    <tr>\n",
       "      <th>4</th>\n",
       "      <td>2017-12-30 19:02:53</td>\n",
       "      <td>78932</td>\n",
       "      <td>947181212468203520</td>\n",
       "      <td>False</td>\n",
       "      <td>23270</td>\n",
       "      <td>Twitter for iPhone</td>\n",
       "      <td>Oppressive regimes cannot endure forever, and ...</td>\n",
       "    </tr>\n",
       "  </tbody>\n",
       "</table>\n",
       "</div>"
      ],
      "text/plain": [
       "           created_at  favorite_count              id_str  is_retweet  \\\n",
       "0 2017-12-31 04:46:21           58549  947328044821336064       False   \n",
       "1 2017-12-30 22:42:09          117013  947236393184628736       False   \n",
       "2 2017-12-30 22:36:41          195754  947235015343202304       False   \n",
       "3 2017-12-30 21:12:45           73325  947213895286054912       False   \n",
       "4 2017-12-30 19:02:53           78932  947181212468203520       False   \n",
       "\n",
       "   retweet_count              source  \\\n",
       "0          13096  Twitter for iPhone   \n",
       "1          24332  Twitter for iPhone   \n",
       "2          50342  Twitter for iPhone   \n",
       "3          16703  Twitter for iPhone   \n",
       "4          23270  Twitter for iPhone   \n",
       "\n",
       "                                                text  \n",
       "0  “Trump Rally: Stocks put 2017 in the record bo...  \n",
       "1  Jobs are kicking in and companies are coming b...  \n",
       "2  I use Social Media not because I like to, but ...  \n",
       "3  On Taxes: “This is the biggest corporate rate ...  \n",
       "4  Oppressive regimes cannot endure forever, and ...  "
      ]
     },
     "execution_count": 2,
     "metadata": {},
     "output_type": "execute_result"
    }
   ],
   "source": [
    "# Load the President Trump's tweets\n",
    "trump_twitter = pd.read_json('/home/data_scientist/data/misc/trump_tweets_2017.json', encoding='utf8')\n",
    "trump_twitter.head()"
   ]
  },
  {
   "cell_type": "markdown",
   "metadata": {
    "collapsed": true,
    "deletable": false,
    "editable": false,
    "nbgrader": {
     "checksum": "605e32fe5be72c84d984738b4ad11262",
     "grade": false,
     "grade_id": "prob1",
     "locked": true,
     "schema_version": 1,
     "solution": false
    }
   },
   "source": [
    "## Question 1: Data Preprocessing\n",
    "\n",
    "Donald Trump assumed office on January 20, 2017 so we are only interested in his tweets starting from that date. Perform the following data cleaning procedure:\n",
    "\n",
    "1. Remove all tweets from 01/01/2017 to 01/19/2017 (i.e., \"created_at\" >= \"2017-01-20\")\n",
    "2. Remove all retweets (i.e., \"is_retweet\" == False).\n",
    "3. Remove the column \"source\" and \"is_retweet\".\n",
    "\n",
    "Your function will perform the above steps and output the cleaned DataFrame.\n",
    "\n",
    "__Hint__: You do not have to pay attention to the time value for the date. Simply subset the DataFrame by the given date format (e.g., '2017-01-20')."
   ]
  },
  {
   "cell_type": "code",
   "execution_count": 3,
   "metadata": {
    "collapsed": true,
    "deletable": false,
    "nbgrader": {
     "checksum": "e08de230aef8febb3fa4e6298b791055",
     "grade": false,
     "grade_id": "prob1_answer",
     "locked": false,
     "schema_version": 1,
     "solution": true
    }
   },
   "outputs": [],
   "source": [
    "def clean_data(df):\n",
    "    '''    \n",
    "    Parameters\n",
    "    ----------\n",
    "    df: a Pandas DataFrame of President Trump's tweets.\n",
    "    \n",
    "    Returns\n",
    "    -------\n",
    "    result: a Pandas DataFrame.\n",
    "    '''\n",
    "\n",
    "    # YOUR CODE HERE\n",
    "    A=df[(df['created_at']>='2017-01-01')&(df['created_at']<'2017-01-20')]\n",
    "    df = df.drop(A.index,axis=0)\n",
    "    \n",
    "    B=df[df['is_retweet']==True]\n",
    "    df = df.drop(B.index,axis=0)\n",
    "    \n",
    "    df = df.drop(['source','is_retweet'],axis=1)\n",
    "    \n",
    "    result = df\n",
    "    return result"
   ]
  },
  {
   "cell_type": "code",
   "execution_count": 4,
   "metadata": {
    "collapsed": true,
    "deletable": false,
    "editable": false,
    "nbgrader": {
     "checksum": "3476f1f44c46c44365a75e3f97e6c66a",
     "grade": true,
     "grade_id": "prob1_grade",
     "locked": true,
     "points": 5,
     "schema_version": 1,
     "solution": false
    },
    "scrolled": true
   },
   "outputs": [],
   "source": [
    "trump_df = clean_data(trump_twitter)\n",
    "\n",
    "assert_equal(type(trump_df), pd.DataFrame)\n",
    "assert_equal(2150 < len(trump_df) <= 2152, True)\n",
    "assert_equal(list(trump_df.columns), ['created_at', 'favorite_count', 'id_str', 'retweet_count', 'text'])"
   ]
  },
  {
   "cell_type": "markdown",
   "metadata": {
    "collapsed": true,
    "deletable": false,
    "editable": false,
    "nbgrader": {
     "checksum": "a4259b761e7b33a69ff6d41ec4f285aa",
     "grade": false,
     "grade_id": "prob2",
     "locked": true,
     "schema_version": 1,
     "solution": false
    }
   },
   "source": [
    "## Question 2\n",
    "\n",
    "Known as a voracious tweeter, President Trump often tweets during odd times during the day. Create the function <i>trump_histogram()</i> which plots a histogram of the time of day of tweets.\n",
    "\n",
    "![prob2_solution](images/trump_tweet_histogram.png)\n",
    "\n",
    "Use the example plot above as a reference. Note, you do not have to replicate the plot but make sure you set a plot title and labels for the axes.\n",
    "\n",
    "__Hint__: There are several way to get a frequency count of the tweets by hour of day. One straight forward way is to do the following:\n",
    "- Use the pandas built-in function [.groupby()](https://pandas.pydata.org/pandas-docs/stable/generated/pandas.DataFrame.groupby.html) on the hour part of the 'created_at' column.\n",
    "- To extract the hours of the date, you need to use _dt.hour_ from the [_datetime_ library](https://docs.python.org/3/library/datetime.html)\n",
    "- Use the pandas built-in function [.count()](https://pandas.pydata.org/pandas-docs/stable/generated/pandas.DataFrame.count.html) in order to get a count of each of the hours."
   ]
  },
  {
   "cell_type": "code",
   "execution_count": 21,
   "metadata": {
    "collapsed": true,
    "deletable": false,
    "nbgrader": {
     "checksum": "05ed6c3e59879f87b2f2b2f4dc018cde",
     "grade": false,
     "grade_id": "prob2_answer",
     "locked": false,
     "schema_version": 1,
     "solution": true
    }
   },
   "outputs": [],
   "source": [
    "def trump_histogram(df):\n",
    "    '''    \n",
    "    Parameters\n",
    "    ----------\n",
    "    df: a Pandas DataFrame of President Trump's tweets.\n",
    "    \n",
    "    Returns\n",
    "    -------\n",
    "    ax: A matplotlib.Axes instance.\n",
    "    '''\n",
    "    # YOUR CODE HERE\n",
    "    df['hours']=df.created_at.dt.hour\n",
    "    newdf = df.groupby('hours').size().reset_index(name='counts')\n",
    "    fig,ax = plt.subplots(figsize=(7,5))\n",
    "    plt.bar(newdf['hours'], newdf['counts'], color='SkyBlue', alpha=0.75)\n",
    "    plt.xlabel('Hour of the day',fontsize=12)\n",
    "    plt.title('President Trump Tweets by Time of Day',fontsize=15)\n",
    "    plt.ylabel('Count',fontsize=12)\n",
    "    plt.xticks(newdf['hours'])\n",
    "    ax.set_xlim(-1,24)\n",
    "    return ax"
   ]
  },
  {
   "cell_type": "code",
   "execution_count": 22,
   "metadata": {
    "deletable": false,
    "editable": false,
    "nbgrader": {
     "checksum": "ba29c110e2d7e49a0946d8f2f0f5b2ba",
     "grade": false,
     "grade_id": "cell-3466aa4c6410484f",
     "locked": true,
     "schema_version": 1,
     "solution": false
    }
   },
   "outputs": [
    {
     "data": {
      "image/png": "[encoded data removed]",
      "text/plain": [
       "<matplotlib.figure.Figure at 0x7fde1b6c0f28>"
      ]
     },
     "metadata": {},
     "output_type": "display_data"
    }
   ],
   "source": [
    "# Call the function\n",
    "ax = trump_histogram(trump_df)\n",
    "plt.show()"
   ]
  },
  {
   "cell_type": "code",
   "execution_count": 23,
   "metadata": {
    "deletable": false,
    "editable": false,
    "nbgrader": {
     "checksum": "1919fb9127139ffbf686d624520c0f35",
     "grade": true,
     "grade_id": "prob2_grade1",
     "locked": true,
     "points": 10,
     "schema_version": 1,
     "solution": false
    }
   },
   "outputs": [],
   "source": [
    "# Check to see if an Axes object is returned\n",
    "assert_is_instance(\n",
    "    ax, mpl.axes.Axes,\n",
    "    msg=\"Your function should return a matplotlib.axes.Axes object.\"\n",
    ")\n",
    "\n",
    "# Check to see your y axis consist of the correct counts\n",
    "assert_equal(\n",
    "    265 <= int(round(ax.get_ylim()[1])) <= 270, True,\n",
    "    msg=\"Your frequency count is inaccurate.\"\n",
    ")\n",
    "\n",
    "# Check to see your x axis consist of the correct counts\n",
    "assert_equal(\n",
    "    int(round(ax.get_xlim()[1])), 24,\n",
    "    msg=\"Your x-axis shoud have 24 values.\"\n",
    ")\n",
    "\n",
    "# Check if the title is set\n",
    "assert_is_not(\n",
    "    len(ax.title.get_text()), 0,\n",
    "    msg=\"Your plot doesn't have a title.\"\n",
    ")\n",
    "\n",
    "# Check if the x-axis has a label.\n",
    "assert_is_not(\n",
    "    ax.xaxis.get_label_text(), '',\n",
    "    msg=\"Change the x-axis label to something more descriptive.\"\n",
    ")\n",
    "\n",
    "# Check if the y-axis has a label.\n",
    "assert_is_not(\n",
    "    ax.yaxis.get_label_text(), '',\n",
    "    msg=\"Change the y-axis label to something more descriptive.\"\n",
    ")"
   ]
  },
  {
   "cell_type": "markdown",
   "metadata": {
    "deletable": false,
    "editable": false,
    "nbgrader": {
     "checksum": "0bcd3dda87df61b72b46178def521b8f",
     "grade": false,
     "grade_id": "prob3",
     "locked": true,
     "schema_version": 1,
     "solution": false
    }
   },
   "source": [
    "## Question 3\n",
    "\n",
    "Our dataset have two variables which tells us how \"good\" a tweet is.\n",
    "1. <i>retweet_count</i> tells us about the reach of the tweet\n",
    "2. <i>favorite_count</i> tells us how many people like the tweet.\n",
    "\n",
    "We would like to determine the best and worse _n_ tweets based on either variable using the function <i>best_worse_tweet()</i>. Your function should return a list of the _n_ best first followed by the worse tweets based on the variable input.\n",
    "\n",
    "__Example__:\n",
    "\n",
    "- <i><b>best_worse_tweet(df, 'retweet_count', 3)</b></i> will return a list containing the 3 tweets with the highest <i>retweet_count</i> and the 3 tweets with the lowest <i>retweet_count</i>. There should be 6 tweets in total.\n",
    "- <i><b>best_worse_tweet(df, 'favorite_count', 2)</b></i> will return a list containing the 2 tweets with the highest <i>retweet_count</i> and the 2 tweets with the lowest <i>favorite_count</i>. There should be 4 tweets in total.\n",
    "\n",
    "__Hint__: There are built-in pandas functions which you may use. Please see the [documentation](https://pandas.pydata.org/pandas-docs/stable/generated/pandas.DataFrame.html)."
   ]
  },
  {
   "cell_type": "code",
   "execution_count": 40,
   "metadata": {
    "collapsed": true,
    "deletable": false,
    "nbgrader": {
     "checksum": "8577762b27c127159915ba8958ab5bfe",
     "grade": false,
     "grade_id": "prob3_answer",
     "locked": false,
     "schema_version": 1,
     "solution": true
    }
   },
   "outputs": [],
   "source": [
    "def best_worse_tweet(df, variable, n):\n",
    "    '''    \n",
    "    Parameters\n",
    "    ----------\n",
    "    df: a Pandas DataFrame of President Trump's tweets.\n",
    "    variable: a String\n",
    "    n: a Int.\n",
    "    \n",
    "    Returns\n",
    "    -------\n",
    "    result: a List of strings.\n",
    "    '''\n",
    "    # YOUR CODE HERE\n",
    "    if variable == 'retweet_count':\n",
    "        # go to retweet_count\n",
    "        top = trump_df.sort_values(by='retweet_count', ascending=False).head(n)['text'].tolist()\n",
    "        bottom = trump_df.sort_values(by='retweet_count', ascending=True).head(n)['text'].tolist()\n",
    "        result = top + bottom\n",
    "    elif variable == 'favorite_count':\n",
    "        # go to favorite_count\n",
    "        top = trump_df.sort_values(by='favorite_count', ascending=False).head(n)['text'].tolist()\n",
    "        bottom = trump_df.sort_values(by='favorite_count', ascending=True).head(n)['text'].tolist()\n",
    "        result = top + bottom    \n",
    "    return result"
   ]
  },
  {
   "cell_type": "code",
   "execution_count": 41,
   "metadata": {
    "collapsed": true,
    "deletable": false,
    "editable": false,
    "nbgrader": {
     "checksum": "05cae7b55f87e3a8f03c93f18b039dd0",
     "grade": true,
     "grade_id": "prob3_grade",
     "locked": true,
     "points": 5,
     "schema_version": 1,
     "solution": false
    },
    "scrolled": true
   },
   "outputs": [],
   "source": [
    "test1 = best_worse_tweet(trump_df, 'retweet_count', 3)\n",
    "assert_equal(type(test1), list)\n",
    "assert_equal(len(test1), 6)\n",
    "assert_equal(test1, ['#FraudNewsCNN #FNN https://t.co/WYUnHjjUjg',\n",
    "                     'Why would Kim Jong-un insult me by calling me \"old,\" when I would NEVER call him \"short and fat?\" Oh well, I try so hard to be his friend - and maybe someday that will happen!',\n",
    "                     'Despite the constant negative press covfefe',\n",
    "                     \"I don't know Putin, have no deals in Russia, and the haters are going crazy - yet Obama can make a deal with Iran, #1in terror, no problem!\",\n",
    "                     'Will be interviewed on @oreillyfactor tonight at 8:00 P.M.',\n",
    "                     'Playef golf today with Prime Minister Abe of Japan and @TheBig_Easy, Ernie Els, and had a great time. Japan is very well represented!'])\n",
    "\n",
    "test2 = best_worse_tweet(trump_df, 'favorite_count', 2)\n",
    "assert_equal(type(test2), list)\n",
    "assert_equal(len(test2), 4)\n",
    "assert_equal(test2, ['Why would Kim Jong-un insult me by calling me \"old,\" when I would NEVER call him \"short and fat?\" Oh well, I try so hard to be his friend - and maybe someday that will happen!',\n",
    "                     '#FraudNewsCNN #FNN https://t.co/WYUnHjjUjg',\n",
    "                     'Playef golf today with Prime Minister Abe of Japan and @TheBig_Easy, Ernie Els, and had a great time. Japan is very well represented!',\n",
    "                     \"I don't know Putin, have no deals in Russia, and the haters are going crazy - yet Obama can make a deal with Iran, #1in terror, no problem!\"])"
   ]
  },
  {
   "cell_type": "markdown",
   "metadata": {
    "deletable": false,
    "editable": false,
    "nbgrader": {
     "checksum": "4ee79ef921eaf35ea86c3dbefb8b5407",
     "grade": false,
     "grade_id": "cell-285276feb449a0b7",
     "locked": true,
     "schema_version": 1,
     "solution": false
    }
   },
   "source": [
    "Let us now perform sentiment analysis of President Trump's tweets. How many of his tweets during his first year in office are considered positve and how many are negative? We will answer this question directly without the usage of libraries such as _nltk_.\n",
    "\n",
    "We rely on a list of pre-defined negative words to build our sentiment analysis model. There are several to choose from but we rely on the list from [Hu and Liu (2004)](https://www.cs.uic.edu/~liub/FBS/sentiment-analysis.html)."
   ]
  },
  {
   "cell_type": "code",
   "execution_count": 42,
   "metadata": {
    "deletable": false,
    "editable": false,
    "nbgrader": {
     "checksum": "de58d1cd1e100ce915e319c66d5cc12c",
     "grade": false,
     "grade_id": "cell-ba6b67a3c3a35070",
     "locked": true,
     "schema_version": 1,
     "solution": false
    }
   },
   "outputs": [
    {
     "name": "stdout",
     "output_type": "stream",
     "text": [
      "['2-faced', '2-faces', 'abnormal', 'abolish', 'abominable', 'abominably', 'abominate', 'abomination', 'abort', 'aborted']\n",
      "['a+', 'abound', 'abounds', 'abundance', 'abundant', 'accessable', 'accessible', 'acclaim', 'acclaimed', 'acclamation']\n"
     ]
    }
   ],
   "source": [
    "from urllib.request import urlopen\n",
    "\n",
    "# Load the text file of negative words\n",
    "data = urlopen('http://ptrckprry.com/course/ssd/data/negative-words.txt')\n",
    "\n",
    "negative_words = []\n",
    "for line in data:\n",
    "    # Remove the comments from the file\n",
    "    if ';' not in str(line):\n",
    "        negative_words.append((line.strip()).decode('latin-1'))\n",
    "negative_words = list(filter(None, negative_words))\n",
    "\n",
    "\n",
    "# Load the text file of positive words\n",
    "data = urlopen('http://ptrckprry.com/course/ssd/data/positive-words.txt')\n",
    "\n",
    "positive_words = []\n",
    "for line in data:\n",
    "    # Remove the comments from the file\n",
    "    if ';' not in str(line):\n",
    "        positive_words.append((line.strip()).decode('latin-1'))\n",
    "positive_words = list(filter(None, positive_words))\n",
    "\n",
    "# Print some negative words\n",
    "print(negative_words[0:10])\n",
    "\n",
    "# Print some positive words\n",
    "print(positive_words[0:10])"
   ]
  },
  {
   "cell_type": "code",
   "execution_count": 43,
   "metadata": {
    "deletable": false,
    "editable": false,
    "nbgrader": {
     "checksum": "a871eceeb7814edf54ea762e93e97a69",
     "grade": false,
     "grade_id": "cell-769e8abaddbf4eb0",
     "locked": true,
     "schema_version": 1,
     "solution": false
    }
   },
   "outputs": [
    {
     "name": "stdout",
     "output_type": "stream",
     "text": [
      "['2-faced', '2-faces', 'abnormal', 'abolish', 'abominable', 'abominably', 'abominate', 'abomination', 'abort', 'aborted']\n",
      "['a+', 'abound', 'abounds', 'abundance', 'abundant', 'accessable', 'accessible', 'acclaim', 'acclaimed', 'acclamation']\n"
     ]
    }
   ],
   "source": [
    "# Print some negative words\n",
    "print(negative_words[0:10])\n",
    "\n",
    "# Print some positive words\n",
    "print(positive_words[0:10])"
   ]
  },
  {
   "cell_type": "markdown",
   "metadata": {
    "deletable": false,
    "editable": false,
    "nbgrader": {
     "checksum": "49dd89b3428f211d52d75898c69e55da",
     "grade": false,
     "grade_id": "cell-02ce5221c8e55d3d",
     "locked": true,
     "schema_version": 1,
     "solution": false
    }
   },
   "source": [
    "Let us extract the tweets from the data and clean it up. In particular, we do the following:\n",
    "\n",
    "- Remove all hastags (e.g., #MAGA)\n",
    "- Remove all Twitter handles (e.g. @KellyannePolls)\n",
    "- Remove all urls (e.g., 'https://t.co/0foQGaFjMh')\n",
    "- Remove all punctuations.\n",
    "- Uncapitalize all words."
   ]
  },
  {
   "cell_type": "code",
   "execution_count": 44,
   "metadata": {
    "deletable": false,
    "editable": false,
    "nbgrader": {
     "checksum": "c4bc14c255fad3e2a09111ee8fd99d2e",
     "grade": false,
     "grade_id": "cell-5cce7a3e00b8b1e5",
     "locked": true,
     "schema_version": 1,
     "solution": false
    }
   },
   "outputs": [
    {
     "name": "stdout",
     "output_type": "stream",
     "text": [
      "trump rally stocks put 2017 in the record books\n",
      "together we are making america great again\n",
      "merry christmas\n"
     ]
    }
   ],
   "source": [
    "import re\n",
    "\n",
    "trump_tweets = []\n",
    "for i in list(trump_df['text']):\n",
    "    trump_tweets.append(' '.join(re.sub(\"(@[A-Za-z0-9]+)|([^0-9A-Za-z \\t])|(\\w+:\\/\\/\\S+)\",\" \", i).split()).lower())\n",
    "\n",
    "# Print some sample tweets\n",
    "print(trump_tweets[0])\n",
    "print(trump_tweets[11])\n",
    "print(trump_tweets[25])"
   ]
  },
  {
   "cell_type": "markdown",
   "metadata": {
    "deletable": false,
    "editable": false,
    "nbgrader": {
     "checksum": "647e0f9b28b9fa56217f204831acaf52",
     "grade": false,
     "grade_id": "prob4",
     "locked": true,
     "schema_version": 1,
     "solution": false
    }
   },
   "source": [
    "## Question 4\n",
    "\n",
    "Given a tweet, we would like to compute the proportions of positive and negative words. The function <i>pos_neg_prop()</i> will take a string along with lists of positive and negative words.\n",
    "\n",
    "For each word in the string, compute how many of them are in the list of positive words and how many are in the list of negative words. Your function should output a tuple of the proportions. That is, $\\left( \\frac{\\text{# of positive words}}{\\text{total number of words}}, \\frac{\\text{# of negative words}}{\\text{total number of words}} \\right)$.\n",
    "\n",
    "__Example__:\n",
    "\n",
    "<i>pos_neg_prop('merry christmas', positive_words, negative_words)</i> $\\rightarrow$ (0.5, 0.0)\n",
    "\n",
    "<i>pos_neg_prop('make america great again', positive_words, negative_words)</i> $\\rightarrow$ (0.25, 0.0)\n",
    "\n",
    "<i>pos_neg_prop('the most hated part of obamacare is the individual mandate', positive_words, negative_words)</i> $\\rightarrow$ (0.0, 0.1)"
   ]
  },
  {
   "cell_type": "code",
   "execution_count": 45,
   "metadata": {},
   "outputs": [
    {
     "data": {
      "text/plain": [
       "['happy', 'birth']"
      ]
     },
     "execution_count": 45,
     "metadata": {},
     "output_type": "execute_result"
    }
   ],
   "source": [
    "a = 'happy birth'\n",
    "a.split(' ')"
   ]
  },
  {
   "cell_type": "code",
   "execution_count": 50,
   "metadata": {
    "collapsed": true,
    "deletable": false,
    "nbgrader": {
     "checksum": "d43a22f2a7d494894e7be431c60a3304",
     "grade": false,
     "grade_id": "prob4_answer",
     "locked": false,
     "schema_version": 1,
     "solution": true
    }
   },
   "outputs": [],
   "source": [
    "def pos_neg_prop(tweet, pos_words, neg_words):\n",
    "    '''\n",
    "    Parameters\n",
    "    ----------\n",
    "    tweet: a String.\n",
    "    pos_words: a List of string.\n",
    "    neg_words: a List of string.\n",
    "    \n",
    "    Returns\n",
    "    -------\n",
    "    pos_prop: A float.\n",
    "    neg_prop: A float.\n",
    "    '''\n",
    "\n",
    "    # YOUR CODE HERE\n",
    "    words = tweet.split (\" \")\n",
    "    num_words = len(words)\n",
    "    num_pos = 0\n",
    "    num_neg = 0\n",
    "    for word in words:\n",
    "        if word in pos_words:\n",
    "            num_pos +=1\n",
    "        elif word in neg_words:\n",
    "            num_neg +=1\n",
    "    pos_prop = num_pos/num_words\n",
    "    neg_prop = num_neg/num_words\n",
    "    return pos_prop, neg_prop"
   ]
  },
  {
   "cell_type": "code",
   "execution_count": 51,
   "metadata": {
    "deletable": false,
    "editable": false,
    "nbgrader": {
     "checksum": "abb24111e11ccae438f199b3d9249288",
     "grade": true,
     "grade_id": "prob4_grade",
     "locked": true,
     "points": 10,
     "schema_version": 1,
     "solution": false
    }
   },
   "outputs": [],
   "source": [
    "assert_equal(pos_neg_prop(trump_tweets[25], positive_words, negative_words), (0.5, 0.0))\n",
    "assert_equal(pos_neg_prop(trump_tweets[115], positive_words, negative_words), (0.045454545454545456, 0.1590909090909091))\n",
    "assert_equal(pos_neg_prop(trump_tweets[633], positive_words, negative_words), (0.047619047619047616, 0.0))\n",
    "assert_equal(pos_neg_prop(trump_tweets[1124], positive_words, negative_words), (0.15384615384615385, 0.0))\n",
    "assert_equal(pos_neg_prop(trump_tweets[2002], positive_words, negative_words), (0.045454545454545456, 0.045454545454545456))"
   ]
  },
  {
   "cell_type": "markdown",
   "metadata": {
    "deletable": false,
    "editable": false,
    "nbgrader": {
     "checksum": "0c42d6509d8fb2c44083af411b5752f1",
     "grade": false,
     "grade_id": "cell-e4104d3f7f728284",
     "locked": true,
     "schema_version": 1,
     "solution": false
    }
   },
   "source": [
    "Using what you've computed in Question 4, let us examine if the majority of President Trump's tweets are positive or negative."
   ]
  },
  {
   "cell_type": "code",
   "execution_count": 52,
   "metadata": {
    "deletable": false,
    "editable": false,
    "nbgrader": {
     "checksum": "8366421209e24b8ea0f8a24524ec512f",
     "grade": false,
     "grade_id": "cell-7e229104ea67b36d",
     "locked": true,
     "schema_version": 1,
     "solution": false
    }
   },
   "outputs": [
    {
     "name": "stdout",
     "output_type": "stream",
     "text": [
      "Number of Positive Tweets: 1079\n",
      "Number of Negative Tweets: 548\n"
     ]
    }
   ],
   "source": [
    "positive_tweets = 0\n",
    "negative_tweets = 0\n",
    "\n",
    "# Determine which tweets are positive/negative based on the proportion of words\n",
    "for tweet in trump_tweets:\n",
    "    pos_prop, neg_prop = pos_neg_prop(tweet, positive_words, negative_words)\n",
    "    if pos_prop > neg_prop:\n",
    "        positive_tweets += 1\n",
    "    elif neg_prop > pos_prop:\n",
    "        negative_tweets += 1\n",
    "\n",
    "print('Number of Positive Tweets:', positive_tweets)\n",
    "print('Number of Negative Tweets:', negative_tweets)"
   ]
  },
  {
   "cell_type": "markdown",
   "metadata": {
    "deletable": false,
    "editable": false,
    "nbgrader": {
     "checksum": "e456d89ca61b471c976b922f6b67a363",
     "grade": false,
     "grade_id": "cell-0aa2a7061036f3e0",
     "locked": true,
     "schema_version": 1,
     "solution": false
    }
   },
   "source": [
    "As we can see, the majority of President Trump's tweets are positive although there is a large number of negative tweets."
   ]
  }
 ],
 "metadata": {
  "kernelspec": {
   "display_name": "Python 3",
   "language": "python",
   "name": "python3"
  },
  "language_info": {
   "codemirror_mode": {
    "name": "ipython",
    "version": 3
   },
   "file_extension": ".py",
   "mimetype": "text/x-python",
   "name": "python",
   "nbconvert_exporter": "python",
   "pygments_lexer": "ipython3",
   "version": "3.6.1"
  }
 },
 "nbformat": 4,
 "nbformat_minor": 2
}
