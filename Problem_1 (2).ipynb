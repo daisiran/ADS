{
 "cells": [
  {
   "cell_type": "markdown",
   "metadata": {
    "collapsed": true,
    "deletable": false,
    "editable": false,
    "nbgrader": {
     "checksum": "128123cf7a9faf7e579e882faa6f4d22",
     "grade": false,
     "grade_id": "header",
     "locked": true,
     "schema_version": 1,
     "solution": false
    }
   },
   "source": [
    "# Week 5 Problem 1\n",
    "\n",
    "A few things you should keep in mind when working on assignments:\n",
    "\n",
    "1. Make sure you fill in any place that says `YOUR CODE HERE`. Do not write your answer in anywhere else other than where it says `YOUR CODE HERE`. Anything you write anywhere else will be removed or overwritten by the autograder.\n",
    "\n",
    "2. Before you submit your assignment, make sure everything runs as expected. Go to menubar, select *Kernel*, and restart the kernel and run all cells (*Restart & Run all*).\n",
    "\n",
    "3. Do not change the title (i.e. file name) of this notebook.\n",
    "\n",
    "4. Make sure that you save your work (in the menubar, select *File* → *Save and CheckPoint*)\n",
    "\n",
    "5. When you are ready to submit your assignment, go to *Dashboard* → *Assignments* and click the *Submit* button. Your work is not submitted until you click *Submit*.\n",
    "\n",
    "6. You are allowed to submit an assignment multiple times, but only the most recent submission will be graded.\n",
    "\n",
    "7. **If your code does not pass the unit tests, it will not pass the autograder.**"
   ]
  },
  {
   "cell_type": "markdown",
   "metadata": {
    "deletable": false,
    "editable": false,
    "nbgrader": {
     "checksum": "b7eec45e3a5c0a340933c2afb6698ba3",
     "grade": false,
     "grade_id": "due_date",
     "locked": true,
     "schema_version": 1,
     "solution": false
    }
   },
   "source": [
    "# Due Date: 6 PM, February 19, 2018"
   ]
  },
  {
   "cell_type": "code",
   "execution_count": 1,
   "metadata": {
    "collapsed": true,
    "deletable": false,
    "editable": false,
    "nbgrader": {
     "checksum": "24c91786c54451d0c447b4c3d7fd3794",
     "grade": false,
     "grade_id": "import",
     "locked": true,
     "schema_version": 1,
     "solution": false
    }
   },
   "outputs": [],
   "source": [
    "import pandas as pd\n",
    "import numpy as np\n",
    "\n",
    "from sklearn.model_selection import train_test_split, RandomizedSearchCV, StratifiedKFold, learning_curve\n",
    "from sklearn.preprocessing import RobustScaler, Imputer\n",
    "\n",
    "from sklearn.gaussian_process import  GaussianProcessClassifier\n",
    "from sklearn.naive_bayes import GaussianNB, BernoulliNB\n",
    "\n",
    "import matplotlib as mpl\n",
    "import matplotlib.pyplot as plt\n",
    "%matplotlib inline\n",
    "\n",
    "from nose.tools import assert_equal, assert_true, assert_false\n",
    "import numpy.testing as npt\n",
    "\n",
    "import warnings\n",
    "warnings.filterwarnings(\"ignore\")"
   ]
  },
  {
   "cell_type": "markdown",
   "metadata": {
    "deletable": false,
    "editable": false,
    "nbgrader": {
     "checksum": "027a87148ff23b6885729eabdae84a90",
     "grade": false,
     "grade_id": "cell-dd392facaf8956a3",
     "locked": true,
     "schema_version": 1,
     "solution": false
    }
   },
   "source": [
    "The cell below reads in a simulated dataset where y(labels) are a unknown function of a, b, and c."
   ]
  },
  {
   "cell_type": "code",
   "execution_count": 2,
   "metadata": {
    "deletable": false,
    "editable": false,
    "nbgrader": {
     "checksum": "64be1992eb45da084e79a1f8ab2c7e6b",
     "grade": false,
     "grade_id": "cell-ee4294e582476824",
     "locked": true,
     "schema_version": 1,
     "solution": false
    }
   },
   "outputs": [
    {
     "data": {
      "text/html": [
       "<div>\n",
       "<style>\n",
       "    .dataframe thead tr:only-child th {\n",
       "        text-align: right;\n",
       "    }\n",
       "\n",
       "    .dataframe thead th {\n",
       "        text-align: left;\n",
       "    }\n",
       "\n",
       "    .dataframe tbody tr th {\n",
       "        vertical-align: top;\n",
       "    }\n",
       "</style>\n",
       "<table border=\"1\" class=\"dataframe\">\n",
       "  <thead>\n",
       "    <tr style=\"text-align: right;\">\n",
       "      <th></th>\n",
       "      <th>a</th>\n",
       "      <th>b</th>\n",
       "      <th>c</th>\n",
       "      <th>y</th>\n",
       "    </tr>\n",
       "  </thead>\n",
       "  <tbody>\n",
       "    <tr>\n",
       "      <th>0</th>\n",
       "      <td>0.004539</td>\n",
       "      <td>0.818678</td>\n",
       "      <td>194.381891</td>\n",
       "      <td>0</td>\n",
       "    </tr>\n",
       "    <tr>\n",
       "      <th>1</th>\n",
       "      <td>0.001367</td>\n",
       "      <td>0.243724</td>\n",
       "      <td>245.378577</td>\n",
       "      <td>0</td>\n",
       "    </tr>\n",
       "    <tr>\n",
       "      <th>2</th>\n",
       "      <td>1.579454</td>\n",
       "      <td>0.465842</td>\n",
       "      <td>849.943583</td>\n",
       "      <td>0</td>\n",
       "    </tr>\n",
       "    <tr>\n",
       "      <th>3</th>\n",
       "      <td>7.189778</td>\n",
       "      <td>0.456895</td>\n",
       "      <td>129.707932</td>\n",
       "      <td>0</td>\n",
       "    </tr>\n",
       "    <tr>\n",
       "      <th>4</th>\n",
       "      <td>97.743634</td>\n",
       "      <td>0.319419</td>\n",
       "      <td>120.998294</td>\n",
       "      <td>1</td>\n",
       "    </tr>\n",
       "  </tbody>\n",
       "</table>\n",
       "</div>"
      ],
      "text/plain": [
       "           a         b           c  y\n",
       "0   0.004539  0.818678  194.381891  0\n",
       "1   0.001367  0.243724  245.378577  0\n",
       "2   1.579454  0.465842  849.943583  0\n",
       "3   7.189778  0.456895  129.707932  0\n",
       "4  97.743634  0.319419  120.998294  1"
      ]
     },
     "execution_count": 2,
     "metadata": {},
     "output_type": "execute_result"
    }
   ],
   "source": [
    "df = pd.read_csv('/home/data_scientist/data/misc/sim.data')\n",
    "df.head()"
   ]
  },
  {
   "cell_type": "markdown",
   "metadata": {
    "deletable": false,
    "editable": false,
    "nbgrader": {
     "checksum": "e4b521f5e159c8497aba12a65e0fe613",
     "grade": false,
     "grade_id": "prob1-description",
     "locked": true,
     "schema_version": 1,
     "solution": false
    }
   },
   "source": [
    "### Problem 1.1\n",
    "\n",
    "For Problem 1.1 complete the function *f_eng* performing a 80/20 split on the training/testing features and labels. Fit a RobustScaler on the training features and transform the training and testing features. Where appliciable set the random_state argument to *999*. Return in this order: the transformed training features, training labels, transformed testing features, and testing labels. "
   ]
  },
  {
   "cell_type": "code",
   "execution_count": 12,
   "metadata": {},
   "outputs": [
    {
     "data": {
      "text/html": [
       "<div>\n",
       "<style>\n",
       "    .dataframe thead tr:only-child th {\n",
       "        text-align: right;\n",
       "    }\n",
       "\n",
       "    .dataframe thead th {\n",
       "        text-align: left;\n",
       "    }\n",
       "\n",
       "    .dataframe tbody tr th {\n",
       "        vertical-align: top;\n",
       "    }\n",
       "</style>\n",
       "<table border=\"1\" class=\"dataframe\">\n",
       "  <thead>\n",
       "    <tr style=\"text-align: right;\">\n",
       "      <th></th>\n",
       "      <th>index</th>\n",
       "      <th>y</th>\n",
       "    </tr>\n",
       "  </thead>\n",
       "  <tbody>\n",
       "    <tr>\n",
       "      <th>0</th>\n",
       "      <td>0</td>\n",
       "      <td>0</td>\n",
       "    </tr>\n",
       "    <tr>\n",
       "      <th>1</th>\n",
       "      <td>1</td>\n",
       "      <td>0</td>\n",
       "    </tr>\n",
       "    <tr>\n",
       "      <th>2</th>\n",
       "      <td>2</td>\n",
       "      <td>0</td>\n",
       "    </tr>\n",
       "    <tr>\n",
       "      <th>3</th>\n",
       "      <td>3</td>\n",
       "      <td>0</td>\n",
       "    </tr>\n",
       "    <tr>\n",
       "      <th>4</th>\n",
       "      <td>4</td>\n",
       "      <td>1</td>\n",
       "    </tr>\n",
       "  </tbody>\n",
       "</table>\n",
       "</div>"
      ],
      "text/plain": [
       "   index  y\n",
       "0      0  0\n",
       "1      1  0\n",
       "2      2  0\n",
       "3      3  0\n",
       "4      4  1"
      ]
     },
     "execution_count": 12,
     "metadata": {},
     "output_type": "execute_result"
    }
   ],
   "source": [
    "df[df.columns[-1]].reset_index().head()"
   ]
  },
  {
   "cell_type": "code",
   "execution_count": 21,
   "metadata": {
    "deletable": false,
    "nbgrader": {
     "checksum": "a78490dc2a20c4c6709a2a411ab1cea6",
     "grade": false,
     "grade_id": "prob1-answer",
     "locked": false,
     "schema_version": 1,
     "solution": true
    }
   },
   "outputs": [],
   "source": [
    "def f_eng(data):\n",
    "    '''\n",
    "    Splits the training the data and scales the training and testing features\n",
    "    \n",
    "    Parameters\n",
    "    ----------\n",
    "    data: dataframe containing simulated dataset.\n",
    "    \n",
    "    Returns\n",
    "    -------\n",
    "    Training features as a multi dimensional numpy array (contains 80% of the features)\n",
    "    Testing features as a multi dimensional numpy array (contains 20% of the features)\n",
    "    Training labels as pandas series (contains 80% of the labels)\n",
    "    Testing labels as pandas series (contains 20% of the labels)\n",
    "    \n",
    "    '''\n",
    "    # YOUR CODE HERE\n",
    "    data_clean = data[data.columns[:-1]]\n",
    "    labels = data[data.columns[-1]]\n",
    "    X_train, X_test, y_train, y_test = \\\n",
    "        train_test_split(data_clean, labels, test_size=0.2, random_state=999)\n",
    "    robust_scaler = RobustScaler()\n",
    "    X_train = robust_scaler.fit_transform(X_train)\n",
    "    X_test = robust_scaler.transform(X_test)\n",
    "    return X_train, y_train, X_test, y_test"
   ]
  },
  {
   "cell_type": "code",
   "execution_count": 22,
   "metadata": {
    "deletable": false,
    "editable": false,
    "nbgrader": {
     "checksum": "e7b6e0a60c1da55b1c3fa0e04f7bce08",
     "grade": true,
     "grade_id": "prob1-tests",
     "locked": true,
     "points": 10,
     "schema_version": 1,
     "solution": false
    }
   },
   "outputs": [],
   "source": [
    "X_train, y_train, X_test, y_test = f_eng(df.copy())\n",
    "\n",
    "assert_equal(type(X_train), np.ndarray)\n",
    "assert_equal(type(X_test), np.ndarray)\n",
    "\n",
    "assert_equal(type(y_train), pd.core.series.Series)\n",
    "assert_equal(type(y_test), pd.core.series.Series)\n",
    "\n",
    "assert_equal(len(X_train), 800, msg='Make sure that performed a 80/20 split on the training and testing set')\n",
    "assert_equal(len(y_train), 800, msg='Make sure that performed a 80/20 split on the training and testing set')\n",
    "\n",
    "\n",
    "npt.assert_almost_equal(X_test[0:10], [[-0.30738115403404553, -0.9736985887996362, -0.49101207865721125], [0.18488952387724725, 0.03189822187579699, 0.8034181154818177], [-0.2198828359426681, 0.3028030199063013, 0.8448490192685679], [-0.1433424985516722, -0.011974164525011167, -0.12831623314094662], [0.09892255871589173, -0.8613137137863287, 0.13219278852677604], [-0.312907980172404, 0.9049807671626223, 1.0237472568184407], [0.8872733278385387, 0.5737690433939666, -0.4839982999236612], [0.43514883771829216, 1.0018458848881164, -0.49359000079927745], [0.08946178277685655, 0.6132921249115915, 0.7152472385801251], [0.9151026455050681, 0.07884286112089098, -0.3973694534680506]], decimal=2)\n",
    "npt.assert_almost_equal(X_train[345:355], [[-0.3139239995672711, 0.8450084840904671, -0.06351279246792367], [-0.1487563778794215, -0.5104392475039827, -0.0528450006168689], [-0.19904502938519728, -0.8087579296249421, 1.148338814039014], [-0.09315677202225736, -0.2352769528032403, -0.44881999956456353], [-0.2411588708452692, -0.5054923224648885, 0.18491364134755], [-0.25026611398236226, -0.26454867151904576, 1.5482613893681398], [-0.3061110733202404, 0.47425884363241466, -0.09892128734229258], [-0.30962370002167466, -0.7524807869313633, 0.6640450283476379], [-0.2851410690135015, -0.01612153252307675, 1.0374926446256747], [0.10280334279756671, -0.6158793579748008, 0.32803827308069755]], decimal=2)\n",
    "\n",
    "assert_equal(y_train[0:10].tolist(), [0, 0, 1, 1, 0, 2, 1, 2, 1, 2])\n",
    "assert_equal(y_test[100:120].tolist(), [1, 2, 1, 2, 0, 1, 2, 1, 2, 1, 0, 2, 1, 1, 0, 2, 1, 2, 0, 2])\n"
   ]
  },
  {
   "cell_type": "markdown",
   "metadata": {
    "deletable": false,
    "editable": false,
    "nbgrader": {
     "checksum": "bcfb32c4fd17c3446a9219ce83103d44",
     "grade": false,
     "grade_id": "prob2-description",
     "locked": true,
     "schema_version": 1,
     "solution": false
    }
   },
   "source": [
    "### Problem 1.2\n",
    "For Problem 1.2 finish writing the function *l_curve* by generating a learning curve with the model passed into *l_curve, training features/labels, a StratifiedKFold cross validator with *n_splits*, and training sizes over 10 evenly spaced numbers on an interval of .1 to 1. Your function should return *in this order* the training sizes, training scores, and validation scores."
   ]
  },
  {
   "cell_type": "code",
   "execution_count": 39,
   "metadata": {
    "deletable": false,
    "nbgrader": {
     "checksum": "9ecd61b4d332f729da3f9e964182f668",
     "grade": false,
     "grade_id": "prob2-answer",
     "locked": false,
     "schema_version": 1,
     "solution": true
    }
   },
   "outputs": [],
   "source": [
    "def l_curve(model, X_train, y_train, n_splits=3):\n",
    "    '''\n",
    "    generates learning curves of a model\n",
    "    \n",
    "    Parameters\n",
    "    ----------\n",
    "    model - sklearn estimator\n",
    "    X_train - training features\n",
    "    y_train - training labels\n",
    "    n_splits - number of splits to perform\n",
    "    \n",
    "    Returns\n",
    "    -------\n",
    "    training sizes - number of training examples used to generate the learning curve (numpy array)\n",
    "    training scores - Scores on the training set (multi dimensional numpy array)\n",
    "    validation scores - Scores on the validation set (multi dimensional numpy array)\n",
    "    '''\n",
    "    # YOUR CODE HERE\n",
    "    # Construct training sizes\n",
    "    trn_sz=np.linspace(0.1, 1, 10)\n",
    "\n",
    "    cv = StratifiedKFold(n_splits=n_splits, random_state=999)\n",
    "\n",
    "    # Generate learning curve\n",
    "    trn_szs, trn_scr, vld_scr = \\\n",
    "        learning_curve(model, X_train, y_train, cv=cv, train_sizes=trn_sz)\n",
    "        \n",
    "    return trn_szs, trn_scr, vld_scr"
   ]
  },
  {
   "cell_type": "code",
   "execution_count": 40,
   "metadata": {
    "deletable": false,
    "editable": false,
    "nbgrader": {
     "checksum": "e449ec8a434e9197391860b28f3eb96c",
     "grade": true,
     "grade_id": "prob2-tests",
     "locked": true,
     "points": 10,
     "schema_version": 1,
     "solution": false
    }
   },
   "outputs": [],
   "source": [
    "train_sizes, train_scores, val_scores = l_curve(GaussianNB(), X_train, y_train, n_splits=6)\n",
    "\n",
    "assert_equal(train_sizes.tolist(), [66, 133, 199, 266, 332, 399, 465, 532, 598, 665])\n",
    "npt.assert_almost_equal(train_scores, [[0.8636363636363636, 0.8333333333333334, 0.8333333333333334, 0.8333333333333334, 0.8333333333333334, 0.8333333333333334], [0.8270676691729323, 0.8421052631578947, 0.8721804511278195, 0.8721804511278195, 0.8721804511278195, 0.8721804511278195], [0.8140703517587939, 0.8442211055276382, 0.8442211055276382, 0.8442211055276382, 0.8442211055276382, 0.8442211055276382], [0.8157894736842105, 0.8571428571428571, 0.8421052631578947, 0.8421052631578947, 0.8421052631578947, 0.8421052631578947], [0.8313253012048193, 0.8554216867469879, 0.8463855421686747, 0.8343373493975904, 0.8343373493975904, 0.8343373493975904], [0.8421052631578947, 0.8571428571428571, 0.8446115288220551, 0.8370927318295739, 0.8345864661654135, 0.8345864661654135], [0.8064516129032258, 0.8258064516129032, 0.8172043010752689, 0.8086021505376344, 0.832258064516129, 0.832258064516129], [0.8045112781954887, 0.8233082706766918, 0.8195488721804511, 0.8101503759398496, 0.8383458646616542, 0.8383458646616542], [0.8177257525083612, 0.8294314381270903, 0.8193979933110368, 0.8177257525083612, 0.8344481605351171, 0.8177257525083612], [0.8135338345864662, 0.8270676691729323, 0.8180451127819549, 0.8135338345864662, 0.8315789473684211, 0.8180451127819549]], decimal=2)\n",
    "npt.assert_almost_equal(val_scores, [[0.7703703703703704, 0.7777777777777778, 0.8059701492537313, 0.8134328358208955, 0.816793893129771, 0.7938931297709924], [0.8148148148148148, 0.8444444444444444, 0.8656716417910447, 0.8283582089552238, 0.8320610687022901, 0.8320610687022901], [0.7925925925925926, 0.8222222222222222, 0.835820895522388, 0.8134328358208955, 0.7786259541984732, 0.8396946564885496], [0.7925925925925926, 0.7851851851851852, 0.8582089552238806, 0.8208955223880597, 0.7786259541984732, 0.8320610687022901], [0.8148148148148148, 0.8, 0.8582089552238806, 0.8134328358208955, 0.7709923664122137, 0.8320610687022901], [0.8148148148148148, 0.8074074074074075, 0.8656716417910447, 0.8208955223880597, 0.7786259541984732, 0.8320610687022901], [0.8148148148148148, 0.8074074074074075, 0.8656716417910447, 0.8208955223880597, 0.7709923664122137, 0.8320610687022901], [0.8148148148148148, 0.7925925925925926, 0.8432835820895522, 0.835820895522388, 0.7709923664122137, 0.8320610687022901], [0.8222222222222222, 0.7851851851851852, 0.8507462686567164, 0.8283582089552238, 0.7862595419847328, 0.8320610687022901], [0.8222222222222222, 0.7851851851851852, 0.8432835820895522, 0.8283582089552238, 0.7786259541984732, 0.8320610687022901]], decimal=2)\n"
   ]
  },
  {
   "cell_type": "markdown",
   "metadata": {
    "collapsed": true,
    "deletable": false,
    "editable": false,
    "nbgrader": {
     "checksum": "5c165abd81941293b994d16c5f82d5ae",
     "grade": false,
     "grade_id": "prob3-description",
     "locked": true,
     "schema_version": 1,
     "solution": false
    }
   },
   "source": [
    "### Problem 1.3\n",
    "For Problem 1.3 complete the function *plot* creating a plotting learning curves by:\n",
    "- creating a figure and axes object using [subplots](https://matplotlib.org/api/_as_gen/matplotlib.pyplot.subplots.html) from matplotlib\n",
    "- take the mean of each column for the training scores and validation scores\n",
    "- uses the plot function from the axes object to plot *(in this order)*:\n",
    "    - the number of training examples used to generate the learning curve and the mean of the training scores and\n",
    "    - the number of training examples used to generate the learning curve and the mean of the validation scores\n",
    "- title your plot and label the x and y axis of your plot\n",
    "- lastly return the axes object\n",
    "\n",
    "If done correctly your plot should look *similar* to the graph below:\n",
    "![Imgur](https://i.imgur.com/NHELtT2.png)"
   ]
  },
  {
   "cell_type": "code",
   "execution_count": 46,
   "metadata": {
    "collapsed": true,
    "deletable": false,
    "nbgrader": {
     "checksum": "fc51db7e9d2d3a11f11e01981bdaf1d4",
     "grade": false,
     "grade_id": "prob3-answer",
     "locked": false,
     "schema_version": 1,
     "solution": true
    }
   },
   "outputs": [],
   "source": [
    "def plot(train_sizes, train_scores, val_scores):\n",
    "    '''\n",
    "    plots learning curve\n",
    "    \n",
    "    Parameters\n",
    "    ----------\n",
    "    train_sizes - number of training examples used to generate the learning curve (numpy array)\n",
    "    train_scores - Scores on the training set (multi dimensional numpy array)\n",
    "    val_scores - Scores on the validation set (multi dimensional numpy array)\n",
    "    \n",
    "    Returns\n",
    "    -------\n",
    "    Axes object\n",
    "    '''\n",
    "    # YOUR CODE HERE\n",
    "    fig, ax = plt.subplots()\n",
    "    mean_train_scores = np.mean(train_scores, axis=1)\n",
    "    mean_val_scores = np.mean(val_scores, axis=1)\n",
    "    ax.plot(train_sizes, mean_train_scores, 'o-', color='red', label='Training score')\n",
    "    ax.plot(train_sizes, mean_val_scores, 'o-', color='green', label='Cross_validation score')\n",
    "\n",
    "    ax.set_title('Learning Curves')\n",
    "    ax.set_ylabel('Scores')\n",
    "    ax.set_xlabel('Training Examples')\n",
    "    ax.legend()\n",
    "     \n",
    "    return ax"
   ]
  },
  {
   "cell_type": "code",
   "execution_count": 47,
   "metadata": {
    "deletable": false,
    "editable": false,
    "nbgrader": {
     "checksum": "380a65156dd4d0bb6b19ef5e9f2af340",
     "grade": true,
     "grade_id": "prob3-tests",
     "locked": true,
     "points": 10,
     "schema_version": 1,
     "solution": false
    }
   },
   "outputs": [
    {
     "data": {
      "image/png": "[encoded data removed]",
      "text/plain": [
       "<matplotlib.figure.Figure at 0x7feb98ead0b8>"
      ]
     },
     "metadata": {},
     "output_type": "display_data"
    }
   ],
   "source": [
    "ax = plot(train_sizes, train_scores, val_scores)\n",
    "\n",
    "assert_true(isinstance(ax, mpl.axes._subplots.Axes), msg='return an axes object')\n",
    "assert_false(ax.get_title() == '', msg='Set Your title')\n",
    "assert_false(ax.get_ylabel() == '', msg='Label the y axis')\n",
    "assert_false(ax.get_xlabel() == '', msg='Label the x axis')\n",
    "\n",
    "npt.assert_equal(ax.lines[0].get_xdata(), [66, 133, 199, 266, 332, 399, 465, 532, 598, 665])\n",
    "npt.assert_almost_equal(ax.lines[0].get_ydata(), [0.8383838383838383, 0.8596491228070176, 0.8391959798994976, 0.8402255639097743, 0.8393574297188756, 0.8416875522138679, 0.8204301075268817, 0.8223684210526315, 0.8227424749163879, 0.8203007518796993], decimal=2, err_msg='Make sure you plot the mean training score first. Make sure that you took the mean of the column for the training scores')\n",
    "npt.assert_almost_equal(ax.lines[1].get_ydata(), [0.7963730260205898, 0.8362352079016847, 0.8137315261408534, 0.811261546381747, 0.8149183401623493, 0.8199127348836818, 0.8186404702526384, 0.814927553355642, 0.8174720826177285, 0.8149560368921579], decimal=2, err_msg=\"Make sure you plot the mean testing score second. Make sure that you took the mean of the column for the testing scores\")\n"
   ]
  }
 ],
 "metadata": {
  "kernelspec": {
   "display_name": "Python 3",
   "language": "python",
   "name": "python3"
  },
  "language_info": {
   "codemirror_mode": {
    "name": "ipython",
    "version": 3
   },
   "file_extension": ".py",
   "mimetype": "text/x-python",
   "name": "python",
   "nbconvert_exporter": "python",
   "pygments_lexer": "ipython3",
   "version": "3.6.1"
  }
 },
 "nbformat": 4,
 "nbformat_minor": 2
}
